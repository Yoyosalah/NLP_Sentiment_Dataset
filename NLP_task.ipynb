{
  "cells": [
    {
      "cell_type": "code",
      "execution_count": 18,
      "metadata": {},
      "outputs": [
        {
          "name": "stdout",
          "output_type": "stream",
          "text": [
            "[PhysicalDevice(name='/physical_device:CPU:0', device_type='CPU'), PhysicalDevice(name='/physical_device:GPU:0', device_type='GPU')]\n"
          ]
        }
      ],
      "source": [
        "import tensorflow as tf\n",
        "print(tf.config.list_physical_devices())"
      ]
    },
    {
      "cell_type": "markdown",
      "metadata": {
        "id": "dpKLxZ8mNTGE"
      },
      "source": [
        "# NLP Lab Task — Preprocessing to Deployment with Twitter Sentiment Dataset\n",
        "\n",
        "## Overview\n",
        "\n",
        "This lab takes students through the **entire NLP pipeline** using a **Twitter Sentiment Analysis dataset** (tweets labeled as positive, negative, or neutral). Students will preprocess the data, represent it using multiple methods, train classical machine learning models, evaluate their results, and finally build a small API for deployment.\n",
        "\n",
        "---\n",
        "\n",
        "## Learning Objectives\n",
        "\n",
        "* Apply text preprocessing (regex, case folding, tokenization, stopword removal, punctuation handling).\n",
        "* Compare stemming and lemmatization, and use POS tagging to analyze counts of nouns, verbs, and adjectives.\n",
        "* Build text representations using **Bag-of-Words**, **TF–IDF**, and **Word2Vec**.\n",
        "* Train classical ML models inside an sklearn **Pipeline**.\n",
        "* Evaluate models with standard metrics and perform basic error analysis.\n",
        "* Save a trained pipeline and build a simple API to serve predictions.\n",
        "\n",
        "---\n",
        "\n",
        "## Dataset\n",
        "\n",
        "We will use the **Sentiment140 Twitter dataset** (1.6M tweets, labeled positive/negative). For simplicity, you can work with a smaller balanced subset (e.g., 10k–20k tweets). This dataset is widely used for sentiment analysis and contains real, noisy text with mentions, hashtags, and emoticons.\n",
        "\n",
        "Dataset link: [Sentiment140](http://help.sentiment140.com/for-students/)\n",
        "\n",
        "---\n",
        "\n",
        "## Step-by-Step Tasks\n",
        "\n",
        "### 1) Exploratory Data Analysis (EDA)\n",
        "\n",
        "* Load dataset, show class distribution, tweet length histogram, and a few sample tweets.\n",
        "* Deliverable: 3 plots (class balance, length histogram, top frequent tokens) + 5 example tweets.\n",
        "\n",
        "### 2) Regex Cleaning\n",
        "\n",
        "* Remove URLs, mentions (@user), hashtags, emojis (or replace with tokens), and extra whitespace.\n",
        "* Show a before-and-after example for at least 3 tweets.\n",
        "\n",
        "### 3) Case Folding & Tokenization\n",
        "\n",
        "* Convert all text to lowercase.\n",
        "* Tokenize tweets using NLTK or spaCy.\n",
        "* Compare vocabulary size before and after cleaning.\n",
        "\n",
        "### 4) Stopwords, Punctuation, and Numbers\n",
        "\n",
        "* Remove stopwords (with NLTK list, customizable).\n",
        "* Decide how to handle punctuation and numbers (remove or replace with `<NUM>`).\n",
        "* Deliverable: short explanation of your choice.\n",
        "\n",
        "### 5) Stemming vs Lemmatization\n",
        "\n",
        "* Use PorterStemmer (stemming) and spaCy lemmatizer.\n",
        "* Show 20 sample words with their stem vs lemma.\n",
        "* Train quick models with both and compare results.\n",
        "\n",
        "### 6) POS Tagging (extra features)\n",
        "\n",
        "* Use spaCy to count nouns, verbs, and adjectives per tweet.\n",
        "* Add these counts as additional numeric features.\n",
        "* Compare model with vs without POS features.\n",
        "\n",
        "### 7) Text Representation\n",
        "\n",
        "* Implement three representations:\n",
        "  1. **Bag-of-Words** (CountVectorizer)\n",
        "  2. **TF–IDF** (TfidfVectorizer)\n",
        "  3. **Word2Vec** (pretrained embeddings, averaged per tweet)\n",
        "* Compare vocabulary sizes and representation dimensions.\n",
        "\n",
        "### 8) Modeling with Pipelines\n",
        "\n",
        "* Use sklearn Pipelines to connect preprocessing + vectorizer + classifier.\n",
        "* Models to try:\n",
        "  * Multinomial Naive Bayes (for BoW/TF–IDF)\n",
        "  * Logistic Regression\n",
        "  * Linear SVM\n",
        "* Deliverable: comparison table (accuracy, F1-score).\n",
        "\n",
        "### 9) Evaluation & Error Analysis\n",
        "\n",
        "* Use held-out test set.\n",
        "* Metrics: accuracy, precision, recall, F1, confusion matrix.\n",
        "* Show 10 misclassified tweets and discuss why they may be difficult.\n",
        "\n",
        "### 10) Save Model Pipeline\n",
        "\n",
        "* Save the best pipeline using `joblib` or `pickle`.\n",
        "* Deliverable: `sentiment_model.pkl` file.\n",
        "\n",
        "### 11) Build a Simple API (Deployment Step)\n",
        "\n",
        "* Create a small Flask API with one endpoint `/predict` that accepts a tweet as input and returns sentiment prediction.\n",
        "* The API should load the saved pipeline and make predictions.\n",
        "* Deliverable: `app.py` with Flask code + test with a sample curl or Postman request.\n",
        "\n",
        "---\n",
        "\n",
        "## Deliverables\n",
        "\n",
        "1. Jupyter Notebook with step-by-step tasks, results, and code.\n",
        "2. Comparison tables for preprocessing choices and representations.\n",
        "3. Saved pipeline file (`.pkl`).\n",
        "4. Flask API script (`app.py`).\n",
        "5. Short report in markdown cell summarizing preprocessing, modeling choices, and results.\n",
        "\n",
        "---\n",
        "\n",
        "This streamlined lab ensures students get hands-on experience with **real-world text preprocessing, classical modeling, and deployment of NLP systems**.\n"
      ]
    },
    {
      "cell_type": "markdown",
      "metadata": {
        "id": "g5JhT6qqMzOr"
      },
      "source": [
        "### 1. Load the Dataset\n",
        "\n",
        "We will use the **Sentiment140 Twitter Sentiment dataset**.  \n",
        "It contains 1.6 million tweets labeled as positive (4) or negative (0).  \n",
        "For this lab, we will load a smaller subset (e.g., 20,000 rows) for faster experimentation.\n",
        "\n",
        "```python\n",
        "import pandas as pd\n",
        "\n",
        "# Column order for Sentiment140 dataset:\n",
        "# 0 - target (0 = negative, 4 = positive)\n",
        "# 1 - ids\n",
        "# 2 - date\n",
        "# 3 - flag\n",
        "# 4 - user\n",
        "# 5 - text (tweet)\n",
        "\n",
        "# Update the file path if needed\n",
        "file_path = \"sentiment140.csv\"\n",
        "\n",
        "# Load with proper encoding\n",
        "df = pd.read_csv(file_path, encoding='latin-1', header=None)\n",
        "\n",
        "# Assign column names\n",
        "df.columns = [\"target\", \"id\", \"date\", \"flag\", \"user\", \"text\"]\n",
        "\n",
        "# Map target labels: 0 → negative, 4 → positive\n",
        "df[\"target\"] = df[\"target\"].map({0: \"negative\", 4: \"positive\"})\n",
        "\n",
        "# Take a smaller sample for experiments (optional)\n",
        "df = df.sample(20000, random_state=42).reset_index(drop=True)\n",
        "\n",
        "# Quick check\n",
        "print(df.shape)\n",
        "df.head()\n"
      ]
    },
    {
      "cell_type": "code",
      "execution_count": 19,
      "metadata": {
        "colab": {
          "base_uri": "https://localhost:8080/"
        },
        "id": "FckTkNZyMqJw",
        "outputId": "0eb78a1b-f5ff-4a8f-b740-ab419b98e42f"
      },
      "outputs": [
        {
          "name": "stdout",
          "output_type": "stream",
          "text": [
            "(20000, 6)\n",
            "Training set: (1600000, 6)\n",
            "     target  ...                                               text\n",
            "0  negative  ...  @switchfoot http://twitpic.com/2y1zl - Awww, t...\n",
            "1  negative  ...  is upset that he can't update his Facebook by ...\n",
            "2  negative  ...  @Kenichan I dived many times for the ball. Man...\n",
            "3  negative  ...    my whole body feels itchy and like its on fire \n",
            "4  negative  ...  @nationwideclass no, it's not behaving at all....\n",
            "\n",
            "[5 rows x 6 columns]\n",
            "Test set: (498, 6)\n",
            "     target  id  ...      user                                               text\n",
            "0  positive   3  ...    tpryan  @stellargirl I loooooooovvvvvveee my Kindle2. ...\n",
            "1  positive   4  ...    vcu451  Reading my kindle2...  Love it... Lee childs i...\n",
            "2  positive   5  ...    chadfu  Ok, first assesment of the #kindle2 ...it fuck...\n",
            "3  positive   6  ...     SIX15  @kenburbary You'll love your Kindle2. I've had...\n",
            "4  positive   7  ...  yamarama  @mikefish  Fair enough. But i have the Kindle2...\n",
            "\n",
            "[5 rows x 6 columns]\n"
          ]
        }
      ],
      "source": [
        "import pandas as pd\n",
        "import zipfile\n",
        "import os\n",
        "import requests\n",
        "\n",
        "# Step 1: Download the dataset (if not already downloaded)\n",
        "url = \"https://cs.stanford.edu/people/alecmgo/trainingandtestdata.zip\"\n",
        "zip_path = \"trainingandtestdata.zip\"\n",
        "\n",
        "if not os.path.exists(zip_path):\n",
        "    print(\"Downloading dataset...\")\n",
        "    r = requests.get(url)\n",
        "    with open(zip_path, \"wb\") as f:\n",
        "        f.write(r.content)\n",
        "\n",
        "# Step 2: Unzip the file\n",
        "with zipfile.ZipFile(zip_path, \"r\") as zip_ref:\n",
        "    zip_ref.extractall(\".\")\n",
        "\n",
        "# Step 3: Load training data\n",
        "file_path = \"training.1600000.processed.noemoticon.csv\"\n",
        "\n",
        "df = pd.read_csv(file_path, encoding=\"latin-1\", header=None)\n",
        "df.columns = [\"target\", \"id\", \"date\", \"flag\", \"user\", \"text\"]\n",
        "\n",
        "# Map sentiment labels: 0 = negative, 4 = positive\n",
        "df[\"target\"] = df[\"target\"].map({0: \"negative\", 4: \"positive\"})\n",
        "\n",
        "# Optional: sample a smaller dataset for quicker experiments\n",
        "df = df.sample(20000, random_state=42).reset_index(drop=True)\n",
        "\n",
        "# Preview the data\n",
        "print(df.shape)\n",
        "df.head()\n",
        "\n",
        "\n",
        "# Load training set\n",
        "train_path = \"training.1600000.processed.noemoticon.csv\"\n",
        "train_df = pd.read_csv(train_path, encoding=\"latin-1\", header=None)\n",
        "train_df.columns = [\"target\", \"id\", \"date\", \"flag\", \"user\", \"text\"]\n",
        "train_df[\"target\"] = train_df[\"target\"].map({0: \"negative\", 4: \"positive\"})\n",
        "\n",
        "print(\"Training set:\", train_df.shape)\n",
        "print(train_df.head())\n",
        "\n",
        "# Load manual test set\n",
        "test_path = \"testdata.manual.2009.06.14.csv\"\n",
        "test_df = pd.read_csv(test_path, encoding=\"latin-1\", header=None)\n",
        "test_df.columns = [\"target\", \"id\", \"date\", \"flag\", \"user\", \"text\"]\n",
        "\n",
        "# This test set has labels 0 (negative), 2 (neutral), 4 (positive)\n",
        "test_df[\"target\"] = test_df[\"target\"].map({0: \"negative\", 2: \"neutral\", 4: \"positive\"})\n",
        "\n",
        "print(\"Test set:\", test_df.shape)\n",
        "print(test_df.head())\n"
      ]
    },
    {
      "cell_type": "markdown",
      "metadata": {},
      "source": [
        "### EDA"
      ]
    },
    {
      "cell_type": "code",
      "execution_count": 20,
      "metadata": {},
      "outputs": [],
      "source": [
        "import matplotlib.pyplot as plt\n",
        "import numpy as np\n",
        "import seaborn as sns"
      ]
    },
    {
      "cell_type": "code",
      "execution_count": 21,
      "metadata": {
        "id": "jZgsBciEMrFj"
      },
      "outputs": [
        {
          "data": {
            "text/html": [
              "<div>\n",
              "<style scoped>\n",
              "    .dataframe tbody tr th:only-of-type {\n",
              "        vertical-align: middle;\n",
              "    }\n",
              "\n",
              "    .dataframe tbody tr th {\n",
              "        vertical-align: top;\n",
              "    }\n",
              "\n",
              "    .dataframe thead th {\n",
              "        text-align: right;\n",
              "    }\n",
              "</style>\n",
              "<table border=\"1\" class=\"dataframe\">\n",
              "  <thead>\n",
              "    <tr style=\"text-align: right;\">\n",
              "      <th></th>\n",
              "      <th>target</th>\n",
              "      <th>id</th>\n",
              "      <th>date</th>\n",
              "      <th>flag</th>\n",
              "      <th>user</th>\n",
              "      <th>text</th>\n",
              "    </tr>\n",
              "  </thead>\n",
              "  <tbody>\n",
              "    <tr>\n",
              "      <th>0</th>\n",
              "      <td>negative</td>\n",
              "      <td>2200003196</td>\n",
              "      <td>Tue Jun 16 18:18:12 PDT 2009</td>\n",
              "      <td>NO_QUERY</td>\n",
              "      <td>LaLaLindsey0609</td>\n",
              "      <td>@chrishasboobs AHHH I HOPE YOUR OK!!!</td>\n",
              "    </tr>\n",
              "    <tr>\n",
              "      <th>1</th>\n",
              "      <td>negative</td>\n",
              "      <td>1467998485</td>\n",
              "      <td>Mon Apr 06 23:11:14 PDT 2009</td>\n",
              "      <td>NO_QUERY</td>\n",
              "      <td>sexygrneyes</td>\n",
              "      <td>@misstoriblack cool , i have no tweet apps  fo...</td>\n",
              "    </tr>\n",
              "    <tr>\n",
              "      <th>2</th>\n",
              "      <td>negative</td>\n",
              "      <td>2300048954</td>\n",
              "      <td>Tue Jun 23 13:40:11 PDT 2009</td>\n",
              "      <td>NO_QUERY</td>\n",
              "      <td>sammydearr</td>\n",
              "      <td>@TiannaChaos i know  just family drama. its la...</td>\n",
              "    </tr>\n",
              "    <tr>\n",
              "      <th>3</th>\n",
              "      <td>negative</td>\n",
              "      <td>1993474027</td>\n",
              "      <td>Mon Jun 01 10:26:07 PDT 2009</td>\n",
              "      <td>NO_QUERY</td>\n",
              "      <td>Lamb_Leanne</td>\n",
              "      <td>School email won't open  and I have geography ...</td>\n",
              "    </tr>\n",
              "    <tr>\n",
              "      <th>4</th>\n",
              "      <td>negative</td>\n",
              "      <td>2256550904</td>\n",
              "      <td>Sat Jun 20 12:56:51 PDT 2009</td>\n",
              "      <td>NO_QUERY</td>\n",
              "      <td>yogicerdito</td>\n",
              "      <td>upper airways problem</td>\n",
              "    </tr>\n",
              "    <tr>\n",
              "      <th>...</th>\n",
              "      <td>...</td>\n",
              "      <td>...</td>\n",
              "      <td>...</td>\n",
              "      <td>...</td>\n",
              "      <td>...</td>\n",
              "      <td>...</td>\n",
              "    </tr>\n",
              "    <tr>\n",
              "      <th>19995</th>\n",
              "      <td>positive</td>\n",
              "      <td>1981517014</td>\n",
              "      <td>Sun May 31 09:19:12 PDT 2009</td>\n",
              "      <td>NO_QUERY</td>\n",
              "      <td>gemmaridlington</td>\n",
              "      <td>Loving the weather  Although we're not having ...</td>\n",
              "    </tr>\n",
              "    <tr>\n",
              "      <th>19996</th>\n",
              "      <td>negative</td>\n",
              "      <td>2245469775</td>\n",
              "      <td>Fri Jun 19 16:10:38 PDT 2009</td>\n",
              "      <td>NO_QUERY</td>\n",
              "      <td>musicroxmysockz</td>\n",
              "      <td>Me and andrea r. last day of school.....  http...</td>\n",
              "    </tr>\n",
              "    <tr>\n",
              "      <th>19997</th>\n",
              "      <td>positive</td>\n",
              "      <td>2063022808</td>\n",
              "      <td>Sun Jun 07 01:05:46 PDT 2009</td>\n",
              "      <td>NO_QUERY</td>\n",
              "      <td>ElaineToni</td>\n",
              "      <td>Just finished watching Your Song Presents: Boy...</td>\n",
              "    </tr>\n",
              "    <tr>\n",
              "      <th>19998</th>\n",
              "      <td>positive</td>\n",
              "      <td>1982082859</td>\n",
              "      <td>Sun May 31 10:29:36 PDT 2009</td>\n",
              "      <td>NO_QUERY</td>\n",
              "      <td>lindseyrd20</td>\n",
              "      <td>@janfran813 awww i can't wait to get one</td>\n",
              "    </tr>\n",
              "    <tr>\n",
              "      <th>19999</th>\n",
              "      <td>negative</td>\n",
              "      <td>2191411608</td>\n",
              "      <td>Tue Jun 16 05:13:11 PDT 2009</td>\n",
              "      <td>NO_QUERY</td>\n",
              "      <td>spiritkl</td>\n",
              "      <td>is indeed, a rather large hoarder of paper. &amp;a...</td>\n",
              "    </tr>\n",
              "  </tbody>\n",
              "</table>\n",
              "<p>20000 rows × 6 columns</p>\n",
              "</div>"
            ],
            "text/plain": [
              "         target  ...                                               text\n",
              "0      negative  ...             @chrishasboobs AHHH I HOPE YOUR OK!!! \n",
              "1      negative  ...  @misstoriblack cool , i have no tweet apps  fo...\n",
              "2      negative  ...  @TiannaChaos i know  just family drama. its la...\n",
              "3      negative  ...  School email won't open  and I have geography ...\n",
              "4      negative  ...                             upper airways problem \n",
              "...         ...  ...                                                ...\n",
              "19995  positive  ...  Loving the weather  Although we're not having ...\n",
              "19996  negative  ...  Me and andrea r. last day of school.....  http...\n",
              "19997  positive  ...  Just finished watching Your Song Presents: Boy...\n",
              "19998  positive  ...          @janfran813 awww i can't wait to get one \n",
              "19999  negative  ...  is indeed, a rather large hoarder of paper. &a...\n",
              "\n",
              "[20000 rows x 6 columns]"
            ]
          },
          "execution_count": 21,
          "metadata": {},
          "output_type": "execute_result"
        }
      ],
      "source": [
        "df"
      ]
    },
    {
      "cell_type": "code",
      "execution_count": 22,
      "metadata": {},
      "outputs": [
        {
          "name": "stdout",
          "output_type": "stream",
          "text": [
            "duplicates: 0\n",
            "nulls: 0\n"
          ]
        }
      ],
      "source": [
        "print('duplicates:',df.duplicated().sum())\n",
        "print('nulls:',df.isna().sum().sum())"
      ]
    },
    {
      "cell_type": "code",
      "execution_count": 23,
      "metadata": {},
      "outputs": [
        {
          "data": {
            "image/png": "[encoded data removed]",
            "text/plain": [
              "<Figure size 640x480 with 1 Axes>"
            ]
          },
          "metadata": {},
          "output_type": "display_data"
        },
        {
          "name": "stdout",
          "output_type": "stream",
          "text": [
            "positive    0.5029\n",
            "negative    0.4971\n",
            "Name: target, dtype: float64\n"
          ]
        }
      ],
      "source": [
        "sns.countplot(data=df,x='target')\n",
        "plt.show()\n",
        "print(df['target'].value_counts(normalize=True))"
      ]
    },
    {
      "cell_type": "markdown",
      "metadata": {},
      "source": [
        "- classes are really well balanced"
      ]
    },
    {
      "cell_type": "code",
      "execution_count": 24,
      "metadata": {},
      "outputs": [],
      "source": [
        "import nltk\n",
        "import spacy"
      ]
    },
    {
      "cell_type": "code",
      "execution_count": 25,
      "metadata": {},
      "outputs": [
        {
          "name": "stderr",
          "output_type": "stream",
          "text": [
            "[nltk_data] Downloading package punkt to\n",
            "[nltk_data]     C:\\Users\\Youss\\AppData\\Roaming\\nltk_data...\n",
            "[nltk_data]   Package punkt is already up-to-date!\n"
          ]
        },
        {
          "data": {
            "image/png": "[encoded data removed]",
            "text/plain": [
              "<Figure size 640x480 with 1 Axes>"
            ]
          },
          "metadata": {},
          "output_type": "display_data"
        },
        {
          "name": "stdout",
          "output_type": "stream",
          "text": [
            "mean =  16.40305\n"
          ]
        }
      ],
      "source": [
        "nltk.download('punkt')\n",
        "df[\"No_of_Words\"] = df.apply(lambda row: nltk.word_tokenize(row['text']), axis=1).apply(len)\n",
        "\n",
        "sns.histplot(data=df,x='No_of_Words')\n",
        "plt.show()\n",
        "print(\"mean = \",df['No_of_Words'].mean())"
      ]
    },
    {
      "cell_type": "code",
      "execution_count": 26,
      "metadata": {},
      "outputs": [
        {
          "name": "stderr",
          "output_type": "stream",
          "text": [
            "[nltk_data] Downloading package stopwords to\n",
            "[nltk_data]     C:\\Users\\Youss\\AppData\\Roaming\\nltk_data...\n",
            "[nltk_data]   Package stopwords is already up-to-date!\n"
          ]
        }
      ],
      "source": [
        "import string\n",
        "from nltk.corpus import stopwords\n",
        "nltk.download('stopwords')\n",
        "\n",
        "stop_words = set(stopwords.words(\"english\"))\n",
        "punctuations = set(string.punctuation)\n",
        "freq_dict = {}\n",
        "\n",
        "for tweet in df['text']:\n",
        "    tokens = nltk.word_tokenize(tweet.lower())\n",
        "    for token in tokens:\n",
        "        if token not in stop_words and token not in punctuations:\n",
        "            freq_dict[token] = freq_dict.get(token, 0) + 1"
      ]
    },
    {
      "cell_type": "code",
      "execution_count": 27,
      "metadata": {},
      "outputs": [
        {
          "data": {
            "text/plain": [
              "...     2751\n",
              "'s      2191\n",
              "n't     2191\n",
              "'m      1682\n",
              "..      1316\n",
              "good    1143\n",
              "get     1010\n",
              "day     1003\n",
              "like     982\n",
              "quot     967\n",
              "dtype: int64"
            ]
          },
          "execution_count": 27,
          "metadata": {},
          "output_type": "execute_result"
        }
      ],
      "source": [
        "freq = pd.Series(data=freq_dict)\n",
        "freq.sort_values(ascending=False).head(10)"
      ]
    },
    {
      "cell_type": "code",
      "execution_count": 28,
      "metadata": {},
      "outputs": [
        {
          "name": "stdout",
          "output_type": "stream",
          "text": [
            "0                                                                                                           @chrishasboobs AHHH I HOPE YOUR OK!!! \n",
            "1                                                                                        @misstoriblack cool , i have no tweet apps  for my razr 2\n",
            "2        @TiannaChaos i know  just family drama. its lame.hey next time u hang out with kim n u guys like have a sleepover or whatever, ill call u\n",
            "3                                                      School email won't open  and I have geography stuff on there to revise! *Stupid School* :'(\n",
            "4                                                                                                                           upper airways problem \n",
            "                                                                           ...                                                                    \n",
            "19995                                      Loving the weather  Although we're not having a bbq this evening as apparently 3 in 3 days is too much.\n",
            "19996                                                                           Me and andrea r. last day of school.....  http://twitpic.com/7uif1\n",
            "19997                                                                                        Just finished watching Your Song Presents: Boystown. \n",
            "19998                                                                                                    @janfran813 awww i can't wait to get one \n",
            "19999                                                is indeed, a rather large hoarder of paper. &amp; would love some help &amp; company packing \n",
            "Name: text, Length: 20000, dtype: object\n"
          ]
        }
      ],
      "source": [
        "pd.set_option(\"display.max_colwidth\", None)\n",
        "print(df['text'])"
      ]
    },
    {
      "cell_type": "markdown",
      "metadata": {},
      "source": [
        "### Preprocessing"
      ]
    },
    {
      "cell_type": "code",
      "execution_count": 29,
      "metadata": {},
      "outputs": [
        {
          "data": {
            "text/plain": [
              "0        0\n",
              "1        0\n",
              "2        0\n",
              "3        0\n",
              "4        0\n",
              "        ..\n",
              "19995    1\n",
              "19996    0\n",
              "19997    1\n",
              "19998    1\n",
              "19999    0\n",
              "Name: target_encoded, Length: 20000, dtype: int64"
            ]
          },
          "execution_count": 29,
          "metadata": {},
          "output_type": "execute_result"
        }
      ],
      "source": [
        "df['target_encoded'] = df['target'].map({'negative': 0, 'positive': 1})\n",
        "df['target_encoded']"
      ]
    },
    {
      "cell_type": "markdown",
      "metadata": {},
      "source": [
        "#### Regex Cleaning"
      ]
    },
    {
      "cell_type": "code",
      "execution_count": 30,
      "metadata": {},
      "outputs": [
        {
          "data": {
            "text/html": [
              "<div>\n",
              "<style scoped>\n",
              "    .dataframe tbody tr th:only-of-type {\n",
              "        vertical-align: middle;\n",
              "    }\n",
              "\n",
              "    .dataframe tbody tr th {\n",
              "        vertical-align: top;\n",
              "    }\n",
              "\n",
              "    .dataframe thead th {\n",
              "        text-align: right;\n",
              "    }\n",
              "</style>\n",
              "<table border=\"1\" class=\"dataframe\">\n",
              "  <thead>\n",
              "    <tr style=\"text-align: right;\">\n",
              "      <th></th>\n",
              "      <th>text</th>\n",
              "      <th>regex_text</th>\n",
              "    </tr>\n",
              "  </thead>\n",
              "  <tbody>\n",
              "    <tr>\n",
              "      <th>0</th>\n",
              "      <td>@chrishasboobs AHHH I HOPE YOUR OK!!!</td>\n",
              "      <td>AHHH I HOPE YOUR OK!!!</td>\n",
              "    </tr>\n",
              "    <tr>\n",
              "      <th>1</th>\n",
              "      <td>@misstoriblack cool , i have no tweet apps  for my razr 2</td>\n",
              "      <td>cool i have no tweet apps for my razr</td>\n",
              "    </tr>\n",
              "    <tr>\n",
              "      <th>2</th>\n",
              "      <td>@TiannaChaos i know  just family drama. its lame.hey next time u hang out with kim n u guys like have a sleepover or whatever, ill call u</td>\n",
              "      <td>i know just family drama its lamehey next time u hang out with kim n u guys like have a sleepover or whatever ill call u</td>\n",
              "    </tr>\n",
              "    <tr>\n",
              "      <th>3</th>\n",
              "      <td>School email won't open  and I have geography stuff on there to revise! *Stupid School* :'(</td>\n",
              "      <td>School email wont open and I have geography stuff on there to revise! Stupid School</td>\n",
              "    </tr>\n",
              "    <tr>\n",
              "      <th>4</th>\n",
              "      <td>upper airways problem</td>\n",
              "      <td>upper airways problem</td>\n",
              "    </tr>\n",
              "  </tbody>\n",
              "</table>\n",
              "</div>"
            ],
            "text/plain": [
              "                                                                                                                                        text                                                                                                                regex_text\n",
              "0                                                                                                     @chrishasboobs AHHH I HOPE YOUR OK!!!                                                                                                     AHHH I HOPE YOUR OK!!!\n",
              "1                                                                                  @misstoriblack cool , i have no tweet apps  for my razr 2                                                                                     cool i have no tweet apps for my razr\n",
              "2  @TiannaChaos i know  just family drama. its lame.hey next time u hang out with kim n u guys like have a sleepover or whatever, ill call u  i know just family drama its lamehey next time u hang out with kim n u guys like have a sleepover or whatever ill call u\n",
              "3                                                School email won't open  and I have geography stuff on there to revise! *Stupid School* :'(                                       School email wont open and I have geography stuff on there to revise! Stupid School\n",
              "4                                                                                                                     upper airways problem                                                                                                      upper airways problem"
            ]
          },
          "execution_count": 30,
          "metadata": {},
          "output_type": "execute_result"
        }
      ],
      "source": [
        "import re\n",
        "def regex_clean(tweet):\n",
        "    tweet = re.sub(r\"http\\S+|www\\S+\", \"\", tweet)\n",
        "    tweet = re.sub(r\"@\\w+\", \"\", tweet)\n",
        "    tweet = re.sub(r\"#\\w+\", \"\", tweet)\n",
        "    tweet = re.sub(r\"[^a-zA-Z\\s!?]\", \"\", tweet) #left ?,! as they could show emotion not just words\n",
        "    tweet = re.sub(r\"\\s+\", \" \", tweet).strip()\n",
        "    return tweet\n",
        "\n",
        "df['regex_text'] = df['text'].apply(regex_clean)\n",
        "\n",
        "df[['text','regex_text']].head()\n",
        "\n"
      ]
    },
    {
      "cell_type": "markdown",
      "metadata": {},
      "source": [
        "#### Case Folding & Tokenization"
      ]
    },
    {
      "cell_type": "code",
      "execution_count": 31,
      "metadata": {},
      "outputs": [
        {
          "data": {
            "text/html": [
              "<div>\n",
              "<style scoped>\n",
              "    .dataframe tbody tr th:only-of-type {\n",
              "        vertical-align: middle;\n",
              "    }\n",
              "\n",
              "    .dataframe tbody tr th {\n",
              "        vertical-align: top;\n",
              "    }\n",
              "\n",
              "    .dataframe thead th {\n",
              "        text-align: right;\n",
              "    }\n",
              "</style>\n",
              "<table border=\"1\" class=\"dataframe\">\n",
              "  <thead>\n",
              "    <tr style=\"text-align: right;\">\n",
              "      <th></th>\n",
              "      <th>regex_text</th>\n",
              "      <th>case_re_text</th>\n",
              "    </tr>\n",
              "  </thead>\n",
              "  <tbody>\n",
              "    <tr>\n",
              "      <th>0</th>\n",
              "      <td>AHHH I HOPE YOUR OK!!!</td>\n",
              "      <td>ahhh i hope your ok!!!</td>\n",
              "    </tr>\n",
              "    <tr>\n",
              "      <th>1</th>\n",
              "      <td>cool i have no tweet apps for my razr</td>\n",
              "      <td>cool i have no tweet apps for my razr</td>\n",
              "    </tr>\n",
              "    <tr>\n",
              "      <th>2</th>\n",
              "      <td>i know just family drama its lamehey next time u hang out with kim n u guys like have a sleepover or whatever ill call u</td>\n",
              "      <td>i know just family drama its lamehey next time u hang out with kim n u guys like have a sleepover or whatever ill call u</td>\n",
              "    </tr>\n",
              "    <tr>\n",
              "      <th>3</th>\n",
              "      <td>School email wont open and I have geography stuff on there to revise! Stupid School</td>\n",
              "      <td>school email wont open and i have geography stuff on there to revise! stupid school</td>\n",
              "    </tr>\n",
              "    <tr>\n",
              "      <th>4</th>\n",
              "      <td>upper airways problem</td>\n",
              "      <td>upper airways problem</td>\n",
              "    </tr>\n",
              "  </tbody>\n",
              "</table>\n",
              "</div>"
            ],
            "text/plain": [
              "                                                                                                                 regex_text                                                                                                              case_re_text\n",
              "0                                                                                                    AHHH I HOPE YOUR OK!!!                                                                                                    ahhh i hope your ok!!!\n",
              "1                                                                                     cool i have no tweet apps for my razr                                                                                     cool i have no tweet apps for my razr\n",
              "2  i know just family drama its lamehey next time u hang out with kim n u guys like have a sleepover or whatever ill call u  i know just family drama its lamehey next time u hang out with kim n u guys like have a sleepover or whatever ill call u\n",
              "3                                       School email wont open and I have geography stuff on there to revise! Stupid School                                       school email wont open and i have geography stuff on there to revise! stupid school\n",
              "4                                                                                                     upper airways problem                                                                                                     upper airways problem"
            ]
          },
          "execution_count": 31,
          "metadata": {},
          "output_type": "execute_result"
        }
      ],
      "source": [
        "df['case_re_text'] = df['regex_text'].apply(lambda x:x.lower())\n",
        "df[['regex_text','case_re_text']].head()"
      ]
    },
    {
      "cell_type": "code",
      "execution_count": 32,
      "metadata": {},
      "outputs": [
        {
          "data": {
            "text/html": [
              "<div>\n",
              "<style scoped>\n",
              "    .dataframe tbody tr th:only-of-type {\n",
              "        vertical-align: middle;\n",
              "    }\n",
              "\n",
              "    .dataframe tbody tr th {\n",
              "        vertical-align: top;\n",
              "    }\n",
              "\n",
              "    .dataframe thead th {\n",
              "        text-align: right;\n",
              "    }\n",
              "</style>\n",
              "<table border=\"1\" class=\"dataframe\">\n",
              "  <thead>\n",
              "    <tr style=\"text-align: right;\">\n",
              "      <th></th>\n",
              "      <th>case_re_text</th>\n",
              "      <th>tokenized_case_re_text</th>\n",
              "    </tr>\n",
              "  </thead>\n",
              "  <tbody>\n",
              "    <tr>\n",
              "      <th>0</th>\n",
              "      <td>ahhh i hope your ok!!!</td>\n",
              "      <td>[ahhh, i, hope, your, ok, !, !, !]</td>\n",
              "    </tr>\n",
              "    <tr>\n",
              "      <th>1</th>\n",
              "      <td>cool i have no tweet apps for my razr</td>\n",
              "      <td>[cool, i, have, no, tweet, apps, for, my, razr]</td>\n",
              "    </tr>\n",
              "    <tr>\n",
              "      <th>2</th>\n",
              "      <td>i know just family drama its lamehey next time u hang out with kim n u guys like have a sleepover or whatever ill call u</td>\n",
              "      <td>[i, know, just, family, drama, its, lamehey, next, time, u, hang, out, with, kim, n, u, guys, like, have, a, sleepover, or, whatever, ill, call, u]</td>\n",
              "    </tr>\n",
              "    <tr>\n",
              "      <th>3</th>\n",
              "      <td>school email wont open and i have geography stuff on there to revise! stupid school</td>\n",
              "      <td>[school, email, wo, nt, open, and, i, have, geography, stuff, on, there, to, revise, !, stupid, school]</td>\n",
              "    </tr>\n",
              "    <tr>\n",
              "      <th>4</th>\n",
              "      <td>upper airways problem</td>\n",
              "      <td>[upper, airways, problem]</td>\n",
              "    </tr>\n",
              "  </tbody>\n",
              "</table>\n",
              "</div>"
            ],
            "text/plain": [
              "                                                                                                               case_re_text                                                                                                                               tokenized_case_re_text\n",
              "0                                                                                                    ahhh i hope your ok!!!                                                                                                                   [ahhh, i, hope, your, ok, !, !, !]\n",
              "1                                                                                     cool i have no tweet apps for my razr                                                                                                      [cool, i, have, no, tweet, apps, for, my, razr]\n",
              "2  i know just family drama its lamehey next time u hang out with kim n u guys like have a sleepover or whatever ill call u  [i, know, just, family, drama, its, lamehey, next, time, u, hang, out, with, kim, n, u, guys, like, have, a, sleepover, or, whatever, ill, call, u]\n",
              "3                                       school email wont open and i have geography stuff on there to revise! stupid school                                              [school, email, wo, nt, open, and, i, have, geography, stuff, on, there, to, revise, !, stupid, school]\n",
              "4                                                                                                     upper airways problem                                                                                                                            [upper, airways, problem]"
            ]
          },
          "execution_count": 32,
          "metadata": {},
          "output_type": "execute_result"
        }
      ],
      "source": [
        "import spacy\n",
        "\n",
        "nlp = spacy.load('en_core_web_sm')\n",
        "\n",
        "df['tokenized_case_re_text'] = df['case_re_text'].apply(lambda x: [token for token in nlp(x)])\n",
        "df[['case_re_text','tokenized_case_re_text']].head()"
      ]
    },
    {
      "cell_type": "markdown",
      "metadata": {},
      "source": [
        "#### Stop words removal"
      ]
    },
    {
      "cell_type": "code",
      "execution_count": 33,
      "metadata": {},
      "outputs": [
        {
          "data": {
            "text/html": [
              "<div>\n",
              "<style scoped>\n",
              "    .dataframe tbody tr th:only-of-type {\n",
              "        vertical-align: middle;\n",
              "    }\n",
              "\n",
              "    .dataframe tbody tr th {\n",
              "        vertical-align: top;\n",
              "    }\n",
              "\n",
              "    .dataframe thead th {\n",
              "        text-align: right;\n",
              "    }\n",
              "</style>\n",
              "<table border=\"1\" class=\"dataframe\">\n",
              "  <thead>\n",
              "    <tr style=\"text-align: right;\">\n",
              "      <th></th>\n",
              "      <th>tokenized_case_re_text</th>\n",
              "      <th>tokenized_no_stop</th>\n",
              "    </tr>\n",
              "  </thead>\n",
              "  <tbody>\n",
              "    <tr>\n",
              "      <th>0</th>\n",
              "      <td>[ahhh, i, hope, your, ok, !, !, !]</td>\n",
              "      <td>[ahhh, i, hope, your, ok, !, !, !]</td>\n",
              "    </tr>\n",
              "    <tr>\n",
              "      <th>1</th>\n",
              "      <td>[cool, i, have, no, tweet, apps, for, my, razr]</td>\n",
              "      <td>[cool, i, have, no, tweet, apps, for, my, razr]</td>\n",
              "    </tr>\n",
              "    <tr>\n",
              "      <th>2</th>\n",
              "      <td>[i, know, just, family, drama, its, lamehey, next, time, u, hang, out, with, kim, n, u, guys, like, have, a, sleepover, or, whatever, ill, call, u]</td>\n",
              "      <td>[i, know, just, family, drama, its, lamehey, next, time, u, hang, out, with, kim, n, u, guys, like, have, a, sleepover, or, whatever, ill, call, u]</td>\n",
              "    </tr>\n",
              "    <tr>\n",
              "      <th>3</th>\n",
              "      <td>[school, email, wo, nt, open, and, i, have, geography, stuff, on, there, to, revise, !, stupid, school]</td>\n",
              "      <td>[school, email, wo, nt, open, and, i, have, geography, stuff, on, there, to, revise, !, stupid, school]</td>\n",
              "    </tr>\n",
              "    <tr>\n",
              "      <th>4</th>\n",
              "      <td>[upper, airways, problem]</td>\n",
              "      <td>[upper, airways, problem]</td>\n",
              "    </tr>\n",
              "  </tbody>\n",
              "</table>\n",
              "</div>"
            ],
            "text/plain": [
              "                                                                                                                                tokenized_case_re_text                                                                                                                                    tokenized_no_stop\n",
              "0                                                                                                                   [ahhh, i, hope, your, ok, !, !, !]                                                                                                                   [ahhh, i, hope, your, ok, !, !, !]\n",
              "1                                                                                                      [cool, i, have, no, tweet, apps, for, my, razr]                                                                                                      [cool, i, have, no, tweet, apps, for, my, razr]\n",
              "2  [i, know, just, family, drama, its, lamehey, next, time, u, hang, out, with, kim, n, u, guys, like, have, a, sleepover, or, whatever, ill, call, u]  [i, know, just, family, drama, its, lamehey, next, time, u, hang, out, with, kim, n, u, guys, like, have, a, sleepover, or, whatever, ill, call, u]\n",
              "3                                              [school, email, wo, nt, open, and, i, have, geography, stuff, on, there, to, revise, !, stupid, school]                                              [school, email, wo, nt, open, and, i, have, geography, stuff, on, there, to, revise, !, stupid, school]\n",
              "4                                                                                                                            [upper, airways, problem]                                                                                                                            [upper, airways, problem]"
            ]
          },
          "execution_count": 33,
          "metadata": {},
          "output_type": "execute_result"
        }
      ],
      "source": [
        "stop_words = set(stopwords.words(\"english\"))\n",
        "\n",
        "df['tokenized_no_stop'] = df['tokenized_case_re_text'].apply(lambda x: [token for token in x if token not in stop_words])\n",
        "df[['tokenized_case_re_text','tokenized_no_stop']].head()"
      ]
    },
    {
      "cell_type": "markdown",
      "metadata": {},
      "source": [
        "- left the ! and ? as they have a sentimental meaning"
      ]
    },
    {
      "cell_type": "markdown",
      "metadata": {},
      "source": [
        "#### Stemming & Lemmitization"
      ]
    },
    {
      "cell_type": "code",
      "execution_count": 35,
      "metadata": {},
      "outputs": [
        {
          "data": {
            "text/html": [
              "<div>\n",
              "<style scoped>\n",
              "    .dataframe tbody tr th:only-of-type {\n",
              "        vertical-align: middle;\n",
              "    }\n",
              "\n",
              "    .dataframe tbody tr th {\n",
              "        vertical-align: top;\n",
              "    }\n",
              "\n",
              "    .dataframe thead th {\n",
              "        text-align: right;\n",
              "    }\n",
              "</style>\n",
              "<table border=\"1\" class=\"dataframe\">\n",
              "  <thead>\n",
              "    <tr style=\"text-align: right;\">\n",
              "      <th></th>\n",
              "      <th>tokenized_no_stop</th>\n",
              "      <th>stem_tokens</th>\n",
              "      <th>lemma_tokens</th>\n",
              "    </tr>\n",
              "  </thead>\n",
              "  <tbody>\n",
              "    <tr>\n",
              "      <th>0</th>\n",
              "      <td>[ahhh, i, hope, your, ok, !, !, !]</td>\n",
              "      <td>[ahhh, i, hope, your, ok, !, !, !]</td>\n",
              "      <td>[ahhh, I, hope, your, ok, !, !, !]</td>\n",
              "    </tr>\n",
              "    <tr>\n",
              "      <th>1</th>\n",
              "      <td>[cool, i, have, no, tweet, apps, for, my, razr]</td>\n",
              "      <td>[cool, i, have, no, tweet, app, for, my, razr]</td>\n",
              "      <td>[cool, I, have, no, tweet, app, for, my, razr]</td>\n",
              "    </tr>\n",
              "    <tr>\n",
              "      <th>2</th>\n",
              "      <td>[i, know, just, family, drama, its, lamehey, next, time, u, hang, out, with, kim, n, u, guys, like, have, a, sleepover, or, whatever, ill, call, u]</td>\n",
              "      <td>[i, know, just, famili, drama, it, lamehey, next, time, u, hang, out, with, kim, n, u, guy, like, have, a, sleepov, or, whatev, ill, call, u]</td>\n",
              "      <td>[I, know, just, family, drama, its, lamehey, next, time, u, hang, out, with, kim, n, u, guy, like, have, a, sleepover, or, whatever, ill, call, u]</td>\n",
              "    </tr>\n",
              "    <tr>\n",
              "      <th>3</th>\n",
              "      <td>[school, email, wo, nt, open, and, i, have, geography, stuff, on, there, to, revise, !, stupid, school]</td>\n",
              "      <td>[school, email, wo, nt, open, and, i, have, geographi, stuff, on, there, to, revis, !, stupid, school]</td>\n",
              "      <td>[school, email, will, not, open, and, I, have, geography, stuff, on, there, to, revise, !, stupid, school]</td>\n",
              "    </tr>\n",
              "    <tr>\n",
              "      <th>4</th>\n",
              "      <td>[upper, airways, problem]</td>\n",
              "      <td>[upper, airway, problem]</td>\n",
              "      <td>[upper, airway, problem]</td>\n",
              "    </tr>\n",
              "  </tbody>\n",
              "</table>\n",
              "</div>"
            ],
            "text/plain": [
              "                                                                                                                                     tokenized_no_stop  ...                                                                                                                                        lemma_tokens\n",
              "0                                                                                                                   [ahhh, i, hope, your, ok, !, !, !]  ...                                                                                                                  [ahhh, I, hope, your, ok, !, !, !]\n",
              "1                                                                                                      [cool, i, have, no, tweet, apps, for, my, razr]  ...                                                                                                      [cool, I, have, no, tweet, app, for, my, razr]\n",
              "2  [i, know, just, family, drama, its, lamehey, next, time, u, hang, out, with, kim, n, u, guys, like, have, a, sleepover, or, whatever, ill, call, u]  ...  [I, know, just, family, drama, its, lamehey, next, time, u, hang, out, with, kim, n, u, guy, like, have, a, sleepover, or, whatever, ill, call, u]\n",
              "3                                              [school, email, wo, nt, open, and, i, have, geography, stuff, on, there, to, revise, !, stupid, school]  ...                                          [school, email, will, not, open, and, I, have, geography, stuff, on, there, to, revise, !, stupid, school]\n",
              "4                                                                                                                            [upper, airways, problem]  ...                                                                                                                            [upper, airway, problem]\n",
              "\n",
              "[5 rows x 3 columns]"
            ]
          },
          "execution_count": 35,
          "metadata": {},
          "output_type": "execute_result"
        }
      ],
      "source": [
        "from nltk.stem import PorterStemmer\n",
        "\n",
        "stemmer = PorterStemmer()\n",
        "nlp = spacy.load(\"en_core_web_sm\")\n",
        "\n",
        "df['stem_tokens'] = df['tokenized_no_stop'].apply(lambda x:[stemmer.stem(str(token)) for token in x])\n",
        "df['lemma_tokens'] = df['tokenized_no_stop'].apply(lambda x:[nlp(str(token))[0].lemma_ for token in x])\n",
        "\n",
        "df[['tokenized_no_stop','stem_tokens','lemma_tokens']].head()"
      ]
    },
    {
      "cell_type": "code",
      "execution_count": 36,
      "metadata": {},
      "outputs": [],
      "source": [
        "df['lemma_text'] = df['lemma_tokens'].apply(lambda x: \" \".join(x))\n",
        "df['stem_text'] =df['stem_tokens'].apply(lambda x: \" \".join(x))"
      ]
    },
    {
      "cell_type": "code",
      "execution_count": 37,
      "metadata": {},
      "outputs": [
        {
          "name": "stdout",
          "output_type": "stream",
          "text": [
            "Train: (14000, 16)\n",
            "Val: (3000, 16)\n",
            "Test: (3000, 16)\n"
          ]
        }
      ],
      "source": [
        "from sklearn.model_selection import train_test_split\n",
        "\n",
        "train_df, temp_df = train_test_split(df, test_size=0.3, stratify=df['target_encoded'], random_state=42)\n",
        "val_df, test_df = train_test_split(temp_df, test_size=0.5, stratify=temp_df['target_encoded'], random_state=42)\n",
        "\n",
        "print(\"Train:\", train_df.shape)\n",
        "print(\"Val:\", val_df.shape)\n",
        "print(\"Test:\", test_df.shape)"
      ]
    },
    {
      "cell_type": "markdown",
      "metadata": {},
      "source": [
        "- note: no data leakage as there is nothing dependent on the data itself from all the previous preprocessing"
      ]
    },
    {
      "cell_type": "code",
      "execution_count": 38,
      "metadata": {},
      "outputs": [],
      "source": [
        "from sklearn.metrics import classification_report, confusion_matrix, roc_auc_score, roc_curve,accuracy_score\n",
        "def evaluate(y, y_pred, y_pred_prob, verbose=True):\n",
        "    cm = confusion_matrix(y, y_pred)\n",
        "    report = classification_report(y, y_pred, output_dict=True)\n",
        "    accuracy = accuracy_score(y, y_pred)\n",
        "    precision = report[\"weighted avg\"][\"precision\"]\n",
        "    recall = report[\"weighted avg\"][\"recall\"]\n",
        "    f1 = report[\"weighted avg\"][\"f1-score\"]\n",
        "\n",
        "    if y_pred_prob is not None:\n",
        "        auc_score = roc_auc_score(y, y_pred_prob)\n",
        "    else:\n",
        "        auc_score = None\n",
        "\n",
        "    if verbose:\n",
        "        plt.figure(figsize=(3,3))\n",
        "        sns.heatmap(cm, annot=True, fmt=\"d\", cmap=\"Blues\")\n",
        "        plt.xlabel(\"Predicted\")\n",
        "        plt.ylabel(\"Actual\")\n",
        "        plt.title(\"Confusion Matrix\")\n",
        "        plt.show()\n",
        "\n",
        "        print(\"Classification Report:\")\n",
        "        print(classification_report(y, y_pred))\n",
        "        print(f\"Accuracy: {accuracy:.2f}\")\n",
        "\n",
        "        if auc_score is not None:\n",
        "            fpr, tpr, _ = roc_curve(y, y_pred_prob)\n",
        "            plt.figure(figsize=(3,3))\n",
        "            plt.plot(fpr, tpr, marker='.')\n",
        "            plt.xlabel('False Positive Rate')\n",
        "            plt.ylabel('True Positive Rate')\n",
        "            plt.title('ROC Curve')\n",
        "            plt.show()\n",
        "            print(f\"AUC Score: {auc_score:.2f}\")\n",
        "        else:\n",
        "            print(\"(AUC skipped — no probabilities provided)\")\n",
        "\n",
        "    return (accuracy, precision, recall, f1, auc_score)"
      ]
    },
    {
      "cell_type": "code",
      "execution_count": 39,
      "metadata": {},
      "outputs": [],
      "source": [
        "def train_test_eval(model,X_train,y_train,X_val,y_val,verbose=True):\n",
        "    model.fit(X_train,y_train)\n",
        "\n",
        "    y_train_hat = model.predict(X_train)\n",
        "    y_train_hat_prob = model.predict_proba(X_train)[:,1]\n",
        "    y_val_hat = model.predict(X_val)\n",
        "    y_val_hat_prob = model.predict_proba(X_val)[:,1]\n",
        "    if(verbose == True):\n",
        "        print(\"TRAIN:\")\n",
        "    eval_t = evaluate(y_train,y_train_hat,y_train_hat_prob,verbose=verbose)\n",
        "    if(verbose == True):\n",
        "        print(\"TRAIN:\")\n",
        "        print(\"=\"*50)\n",
        "\n",
        "        print(\"VAL:\")\n",
        "    eval_v = evaluate(y_val,y_val_hat,y_val_hat_prob,verbose=verbose)\n",
        "\n",
        "    return model,eval_t,eval_v"
      ]
    },
    {
      "cell_type": "markdown",
      "metadata": {},
      "source": [
        "stemmer"
      ]
    },
    {
      "cell_type": "code",
      "execution_count": 40,
      "metadata": {},
      "outputs": [],
      "source": [
        "from sklearn.feature_extraction.text import TfidfVectorizer\n",
        "\n",
        "tfidf = TfidfVectorizer()\n",
        "X_train_tfidf_stem = tfidf.fit_transform(train_df['stem_text'])\n",
        "X_val_tfidf_stem = tfidf.transform(val_df['stem_text'])"
      ]
    },
    {
      "cell_type": "code",
      "execution_count": 41,
      "metadata": {},
      "outputs": [
        {
          "name": "stdout",
          "output_type": "stream",
          "text": [
            "TRAIN:\n"
          ]
        },
        {
          "data": {
            "image/png": "[encoded data removed]",
            "text/plain": [
              "<Figure size 300x300 with 2 Axes>"
            ]
          },
          "metadata": {},
          "output_type": "display_data"
        },
        {
          "name": "stdout",
          "output_type": "stream",
          "text": [
            "Classification Report:\n",
            "              precision    recall  f1-score   support\n",
            "\n",
            "           0       0.85      0.84      0.84      6959\n",
            "           1       0.84      0.85      0.85      7041\n",
            "\n",
            "    accuracy                           0.84     14000\n",
            "   macro avg       0.84      0.84      0.84     14000\n",
            "weighted avg       0.84      0.84      0.84     14000\n",
            "\n",
            "Accuracy: 0.84\n"
          ]
        },
        {
          "data": {
            "image/png": "[encoded data removed]",
            "text/plain": [
              "<Figure size 300x300 with 1 Axes>"
            ]
          },
          "metadata": {},
          "output_type": "display_data"
        },
        {
          "name": "stdout",
          "output_type": "stream",
          "text": [
            "AUC Score: 0.91\n",
            "TRAIN:\n",
            "==================================================\n",
            "VAL:\n"
          ]
        },
        {
          "data": {
            "image/png": "[encoded data removed]",
            "text/plain": [
              "<Figure size 300x300 with 2 Axes>"
            ]
          },
          "metadata": {},
          "output_type": "display_data"
        },
        {
          "name": "stdout",
          "output_type": "stream",
          "text": [
            "Classification Report:\n",
            "              precision    recall  f1-score   support\n",
            "\n",
            "           0       0.76      0.76      0.76      1491\n",
            "           1       0.76      0.76      0.76      1509\n",
            "\n",
            "    accuracy                           0.76      3000\n",
            "   macro avg       0.76      0.76      0.76      3000\n",
            "weighted avg       0.76      0.76      0.76      3000\n",
            "\n",
            "Accuracy: 0.76\n"
          ]
        },
        {
          "data": {
            "image/png": "[encoded data removed]",
            "text/plain": [
              "<Figure size 300x300 with 1 Axes>"
            ]
          },
          "metadata": {},
          "output_type": "display_data"
        },
        {
          "name": "stdout",
          "output_type": "stream",
          "text": [
            "AUC Score: 0.84\n"
          ]
        }
      ],
      "source": [
        "from sklearn.linear_model import LogisticRegression\n",
        "\n",
        "\n",
        "_,_,_ = train_test_eval(LogisticRegression(),X_train_tfidf_stem,train_df['target_encoded'],X_val_tfidf_stem,val_df['target_encoded'])\n"
      ]
    },
    {
      "cell_type": "markdown",
      "metadata": {},
      "source": [
        "lemmatizer"
      ]
    },
    {
      "cell_type": "code",
      "execution_count": 42,
      "metadata": {},
      "outputs": [],
      "source": [
        "tfidf = TfidfVectorizer()\n",
        "X_train_tfidf_lemma = tfidf.fit_transform(train_df['lemma_text'])\n",
        "X_val_tfidf_lemma = tfidf.transform(val_df['lemma_text'])"
      ]
    },
    {
      "cell_type": "code",
      "execution_count": 43,
      "metadata": {},
      "outputs": [
        {
          "name": "stdout",
          "output_type": "stream",
          "text": [
            "TRAIN:\n"
          ]
        },
        {
          "data": {
            "image/png": "[encoded data removed]",
            "text/plain": [
              "<Figure size 300x300 with 2 Axes>"
            ]
          },
          "metadata": {},
          "output_type": "display_data"
        },
        {
          "name": "stdout",
          "output_type": "stream",
          "text": [
            "Classification Report:\n",
            "              precision    recall  f1-score   support\n",
            "\n",
            "           0       0.85      0.83      0.84      6959\n",
            "           1       0.84      0.85      0.84      7041\n",
            "\n",
            "    accuracy                           0.84     14000\n",
            "   macro avg       0.84      0.84      0.84     14000\n",
            "weighted avg       0.84      0.84      0.84     14000\n",
            "\n",
            "Accuracy: 0.84\n"
          ]
        },
        {
          "data": {
            "image/png": "[encoded data removed]",
            "text/plain": [
              "<Figure size 300x300 with 1 Axes>"
            ]
          },
          "metadata": {},
          "output_type": "display_data"
        },
        {
          "name": "stdout",
          "output_type": "stream",
          "text": [
            "AUC Score: 0.91\n",
            "TRAIN:\n",
            "==================================================\n",
            "VAL:\n"
          ]
        },
        {
          "data": {
            "image/png": "[encoded data removed]",
            "text/plain": [
              "<Figure size 300x300 with 2 Axes>"
            ]
          },
          "metadata": {},
          "output_type": "display_data"
        },
        {
          "name": "stdout",
          "output_type": "stream",
          "text": [
            "Classification Report:\n",
            "              precision    recall  f1-score   support\n",
            "\n",
            "           0       0.77      0.75      0.76      1491\n",
            "           1       0.76      0.77      0.77      1509\n",
            "\n",
            "    accuracy                           0.76      3000\n",
            "   macro avg       0.76      0.76      0.76      3000\n",
            "weighted avg       0.76      0.76      0.76      3000\n",
            "\n",
            "Accuracy: 0.76\n"
          ]
        },
        {
          "data": {
            "image/png": "[encoded data removed]",
            "text/plain": [
              "<Figure size 300x300 with 1 Axes>"
            ]
          },
          "metadata": {},
          "output_type": "display_data"
        },
        {
          "name": "stdout",
          "output_type": "stream",
          "text": [
            "AUC Score: 0.84\n"
          ]
        }
      ],
      "source": [
        "_,_,_ = train_test_eval(LogisticRegression(),X_train_tfidf_lemma,train_df['target_encoded'],X_val_tfidf_lemma,val_df['target_encoded'])"
      ]
    },
    {
      "cell_type": "markdown",
      "metadata": {},
      "source": [
        "- not much difference between lemmatizer and stemmer, will use stemmer as it takes way less time"
      ]
    },
    {
      "cell_type": "markdown",
      "metadata": {},
      "source": [
        "#### POS"
      ]
    },
    {
      "cell_type": "code",
      "execution_count": 44,
      "metadata": {},
      "outputs": [],
      "source": [
        "\n",
        "# def pos_counts(text):\n",
        "#     nlp = spacy.load(\"en_core_web_sm\")\n",
        "#     doc = nlp(text)\n",
        "#     noun_count = sum(1 for token in doc if token.pos_ == \"NOUN\")\n",
        "#     verb_count = sum(1 for token in doc if token.pos_ == \"VERB\")\n",
        "#     adj_count  = sum(1 for token in doc if token.pos_ == \"ADJ\")\n",
        "#     return noun_count, verb_count, adj_count\n",
        "\n",
        "# df[['noun_count', 'verb_count', 'adj_count']] = df['stem_text'].apply(\n",
        "#     lambda x: pd.Series(pos_counts(x))\n",
        "# )\n",
        "# df[['stem_text','noun_count', 'verb_count', 'adj_count']].head()"
      ]
    },
    {
      "cell_type": "markdown",
      "metadata": {},
      "source": [
        "took too much time\n"
      ]
    },
    {
      "cell_type": "markdown",
      "metadata": {},
      "source": [
        "#### Text Representation"
      ]
    },
    {
      "cell_type": "markdown",
      "metadata": {},
      "source": [
        "BOW"
      ]
    },
    {
      "cell_type": "code",
      "execution_count": 45,
      "metadata": {},
      "outputs": [
        {
          "name": "stdout",
          "output_type": "stream",
          "text": [
            "BOW Vocabulary Size: 14547\n",
            "BOW Representation Shape: (14000, 14547)\n"
          ]
        }
      ],
      "source": [
        "from sklearn.feature_extraction.text import CountVectorizer\n",
        "\n",
        "bow_vectorizer = CountVectorizer()\n",
        "X_train_bow = bow_vectorizer.fit_transform(train_df['stem_text'])\n",
        "print(\"BOW Vocabulary Size:\", len(bow_vectorizer.vocabulary_))\n",
        "print(\"BOW Representation Shape:\", X_train_bow.shape)"
      ]
    },
    {
      "cell_type": "markdown",
      "metadata": {},
      "source": [
        "TFIDF"
      ]
    },
    {
      "cell_type": "code",
      "execution_count": 46,
      "metadata": {},
      "outputs": [
        {
          "name": "stdout",
          "output_type": "stream",
          "text": [
            "TF-IDF Vocabulary Size: 14547\n",
            "TF-IDF Representation Shape: (14000, 14547)\n"
          ]
        }
      ],
      "source": [
        "tfidf_vectorizer = TfidfVectorizer()\n",
        "X_train_tfidf = tfidf_vectorizer.fit_transform(train_df['stem_text'])\n",
        "print(\"TF-IDF Vocabulary Size:\", len(tfidf_vectorizer.vocabulary_))\n",
        "print(\"TF-IDF Representation Shape:\", X_train_tfidf.shape)"
      ]
    },
    {
      "cell_type": "markdown",
      "metadata": {},
      "source": [
        "Word2Vec"
      ]
    },
    {
      "cell_type": "code",
      "execution_count": 47,
      "metadata": {},
      "outputs": [
        {
          "name": "stdout",
          "output_type": "stream",
          "text": [
            "Word2vec[skip-gram] Vocabulary Size: 14646\n",
            "Word2vec[skip-gram] Embedding size 100\n"
          ]
        }
      ],
      "source": [
        "from gensim.models import Word2Vec\n",
        "\n",
        "w2v = Word2Vec(\n",
        "    sentences=train_df['stem_tokens'],\n",
        "    vector_size=100,\n",
        "    window=4,\n",
        "    min_count=1,\n",
        "    sg=1      \n",
        ")\n",
        "\n",
        "print('Word2vec[skip-gram] Vocabulary Size:',len(w2v.wv))\n",
        "print('Word2vec[skip-gram] Embedding size',w2v.wv.vector_size)"
      ]
    },
    {
      "cell_type": "markdown",
      "metadata": {},
      "source": [
        "### Pipeline"
      ]
    },
    {
      "cell_type": "code",
      "execution_count": 48,
      "metadata": {},
      "outputs": [],
      "source": [
        "import re\n",
        "import nltk\n",
        "from nltk.corpus import stopwords\n",
        "from nltk.stem import PorterStemmer\n",
        "from sklearn.base import BaseEstimator, TransformerMixin\n",
        "from sklearn.pipeline import Pipeline\n",
        "from sklearn.feature_extraction.text import TfidfVectorizer,CountVectorizer\n",
        "from sklearn.linear_model import LogisticRegression\n",
        "from sklearn.svm import LinearSVC\n",
        "from sklearn.naive_bayes import MultinomialNB\n",
        "from text_cleaning import RegexCleaner,TextCleaning"
      ]
    },
    {
      "cell_type": "code",
      "execution_count": 49,
      "metadata": {},
      "outputs": [],
      "source": [
        "def pipeline_maker(vectorizer,classifier):\n",
        "    return Pipeline([\n",
        "        ('regex_clean',RegexCleaner()),\n",
        "        ('text_clean',TextCleaning()),\n",
        "        ('vectorizer',vectorizer),\n",
        "        ('classifier',classifier)\n",
        "    ])"
      ]
    },
    {
      "cell_type": "code",
      "execution_count": 50,
      "metadata": {},
      "outputs": [],
      "source": [
        "accuracy= []\n",
        "f1 = []\n",
        "val_accuracy = []\n",
        "val_f1 = []"
      ]
    },
    {
      "cell_type": "code",
      "execution_count": 51,
      "metadata": {},
      "outputs": [],
      "source": [
        "X_train,y_train = train_df['text'],train_df['target_encoded']\n",
        "X_val,y_val = val_df['text'],val_df['target_encoded']"
      ]
    },
    {
      "cell_type": "markdown",
      "metadata": {},
      "source": [
        "#### BOW vs TF-IDF"
      ]
    },
    {
      "cell_type": "markdown",
      "metadata": {},
      "source": [
        "BOW"
      ]
    },
    {
      "cell_type": "code",
      "execution_count": 52,
      "metadata": {},
      "outputs": [],
      "source": [
        "bow_pipe = pipeline_maker(CountVectorizer(),MultinomialNB())\n",
        "bow_pipe.fit(X_train,y_train)\n",
        "\n",
        "y_train_hat = bow_pipe.predict(X_train)\n",
        "y_val_hat = bow_pipe.predict(X_val)\n",
        "\n",
        "a,_,_,f,_ = evaluate(y_train,y_train_hat,None,verbose=False)\n",
        "accuracy.append(a)\n",
        "f1.append(f)\n",
        "a,_,_,f,_ = evaluate(y_val,y_val_hat,None,verbose=False)\n",
        "val_accuracy.append(a)\n",
        "val_f1.append(f)"
      ]
    },
    {
      "cell_type": "markdown",
      "metadata": {},
      "source": [
        "TF-IDF"
      ]
    },
    {
      "cell_type": "code",
      "execution_count": 53,
      "metadata": {},
      "outputs": [],
      "source": [
        "tfidf_pipe = pipeline_maker(TfidfVectorizer(),MultinomialNB())\n",
        "tfidf_pipe.fit(X_train,y_train)\n",
        "\n",
        "y_train_hat = tfidf_pipe.predict(X_train)\n",
        "y_val_hat = tfidf_pipe.predict(X_val)\n",
        "\n",
        "a,_,_,f,_ = evaluate(y_train,y_train_hat,None,verbose=False)\n",
        "accuracy.append(a)\n",
        "f1.append(f)\n",
        "a,_,_,f,_ = evaluate(y_val,y_val_hat,None,verbose=False)\n",
        "val_accuracy.append(a)\n",
        "val_f1.append(f)"
      ]
    },
    {
      "cell_type": "code",
      "execution_count": 54,
      "metadata": {},
      "outputs": [
        {
          "data": {
            "text/html": [
              "<div>\n",
              "<style scoped>\n",
              "    .dataframe tbody tr th:only-of-type {\n",
              "        vertical-align: middle;\n",
              "    }\n",
              "\n",
              "    .dataframe tbody tr th {\n",
              "        vertical-align: top;\n",
              "    }\n",
              "\n",
              "    .dataframe thead th {\n",
              "        text-align: right;\n",
              "    }\n",
              "</style>\n",
              "<table border=\"1\" class=\"dataframe\">\n",
              "  <thead>\n",
              "    <tr style=\"text-align: right;\">\n",
              "      <th></th>\n",
              "      <th>Train Accuracy</th>\n",
              "      <th>Val Accuracy</th>\n",
              "      <th>F1</th>\n",
              "      <th>Val F1</th>\n",
              "    </tr>\n",
              "  </thead>\n",
              "  <tbody>\n",
              "    <tr>\n",
              "      <th>BOW</th>\n",
              "      <td>0.867857</td>\n",
              "      <td>0.736000</td>\n",
              "      <td>0.867843</td>\n",
              "      <td>0.735790</td>\n",
              "    </tr>\n",
              "    <tr>\n",
              "      <th>TF-IDF</th>\n",
              "      <td>0.871214</td>\n",
              "      <td>0.730667</td>\n",
              "      <td>0.871211</td>\n",
              "      <td>0.730535</td>\n",
              "    </tr>\n",
              "  </tbody>\n",
              "</table>\n",
              "</div>"
            ],
            "text/plain": [
              "        Train Accuracy  Val Accuracy        F1    Val F1\n",
              "BOW           0.867857      0.736000  0.867843  0.735790\n",
              "TF-IDF        0.871214      0.730667  0.871211  0.730535"
            ]
          },
          "execution_count": 54,
          "metadata": {},
          "output_type": "execute_result"
        }
      ],
      "source": [
        "data = {\n",
        "'Train Accuracy':accuracy,\n",
        "'Val Accuracy':val_accuracy,\n",
        "'F1':f1,\n",
        "'Val F1':val_f1}\n",
        "# Creates pandas DataFrame.\n",
        "Results = pd.DataFrame(data, index =[\"BOW\", \"TF-IDF\"])\n",
        "Results"
      ]
    },
    {
      "cell_type": "markdown",
      "metadata": {},
      "source": [
        "- tf-idf is slightly better than Bow so i'll stick with it"
      ]
    },
    {
      "cell_type": "markdown",
      "metadata": {},
      "source": [
        "#### Classifiers "
      ]
    },
    {
      "cell_type": "code",
      "execution_count": 55,
      "metadata": {},
      "outputs": [],
      "source": [
        "classifiers = [MultinomialNB(),LogisticRegression(max_iter=1000),LinearSVC()]\n",
        "\n",
        "pipelines = []\n",
        "accuracy= []\n",
        "f1 = []\n",
        "val_accuracy = []\n",
        "val_f1 = []\n",
        "\n",
        "for cls in classifiers:\n",
        "    pipe = pipeline_maker(vectorizer=TfidfVectorizer(),classifier=cls)\n",
        "    pipe.fit(X_train,y_train)\n",
        "    pipelines.append(pipe)\n",
        "    \n",
        "    y_train_hat = pipe.predict(X_train)\n",
        "    y_val_hat = pipe.predict(X_val)\n",
        "\n",
        "    a,_,_,f,_ = evaluate(y_train,y_train_hat,None,verbose=False)\n",
        "    accuracy.append(a)\n",
        "    f1.append(f)\n",
        "    a,_,_,f,_ = evaluate(y_val,y_val_hat,None,verbose=False)\n",
        "    val_accuracy.append(a)\n",
        "    val_f1.append(f)"
      ]
    },
    {
      "cell_type": "code",
      "execution_count": 56,
      "metadata": {},
      "outputs": [
        {
          "data": {
            "text/html": [
              "<div>\n",
              "<style scoped>\n",
              "    .dataframe tbody tr th:only-of-type {\n",
              "        vertical-align: middle;\n",
              "    }\n",
              "\n",
              "    .dataframe tbody tr th {\n",
              "        vertical-align: top;\n",
              "    }\n",
              "\n",
              "    .dataframe thead th {\n",
              "        text-align: right;\n",
              "    }\n",
              "</style>\n",
              "<table border=\"1\" class=\"dataframe\">\n",
              "  <thead>\n",
              "    <tr style=\"text-align: right;\">\n",
              "      <th></th>\n",
              "      <th>Train Accuracy</th>\n",
              "      <th>Val Accuracy</th>\n",
              "      <th>F1</th>\n",
              "      <th>Val F1</th>\n",
              "    </tr>\n",
              "  </thead>\n",
              "  <tbody>\n",
              "    <tr>\n",
              "      <th>NaiveBayes</th>\n",
              "      <td>0.871214</td>\n",
              "      <td>0.730667</td>\n",
              "      <td>0.871211</td>\n",
              "      <td>0.730535</td>\n",
              "    </tr>\n",
              "    <tr>\n",
              "      <th>Logistic Regression</th>\n",
              "      <td>0.844429</td>\n",
              "      <td>0.742333</td>\n",
              "      <td>0.844388</td>\n",
              "      <td>0.742179</td>\n",
              "    </tr>\n",
              "    <tr>\n",
              "      <th>SVC</th>\n",
              "      <td>0.929714</td>\n",
              "      <td>0.725667</td>\n",
              "      <td>0.929713</td>\n",
              "      <td>0.725610</td>\n",
              "    </tr>\n",
              "  </tbody>\n",
              "</table>\n",
              "</div>"
            ],
            "text/plain": [
              "                     Train Accuracy  Val Accuracy        F1    Val F1\n",
              "NaiveBayes                 0.871214      0.730667  0.871211  0.730535\n",
              "Logistic Regression        0.844429      0.742333  0.844388  0.742179\n",
              "SVC                        0.929714      0.725667  0.929713  0.725610"
            ]
          },
          "execution_count": 56,
          "metadata": {},
          "output_type": "execute_result"
        }
      ],
      "source": [
        "data = {\n",
        "'Train Accuracy':accuracy,\n",
        "'Val Accuracy':val_accuracy,\n",
        "'F1':f1,\n",
        "'Val F1':val_f1}\n",
        "# Creates pandas DataFrame.\n",
        "Results = pd.DataFrame(data, index =[\"NaiveBayes\", \"Logistic Regression\",\"SVC\"])\n",
        "Results"
      ]
    },
    {
      "cell_type": "markdown",
      "metadata": {},
      "source": [
        "- worst to best: log_reg, nb, svc\n",
        "- note: all overfitted and need tuning "
      ]
    },
    {
      "cell_type": "markdown",
      "metadata": {},
      "source": [
        "### Saving best model"
      ]
    },
    {
      "cell_type": "code",
      "execution_count": 57,
      "metadata": {},
      "outputs": [],
      "source": [
        "import pickle\n",
        "\n",
        "with open(\"sentiment_pipeline.pkl\", \"wb\") as f:\n",
        "    pickle.dump(pipelines[2], f)"
      ]
    }
  ],
  "metadata": {
    "colab": {
      "provenance": []
    },
    "kernelspec": {
      "display_name": "venv310",
      "language": "python",
      "name": "python3"
    },
    "language_info": {
      "codemirror_mode": {
        "name": "ipython",
        "version": 3
      },
      "file_extension": ".py",
      "mimetype": "text/x-python",
      "name": "python",
      "nbconvert_exporter": "python",
      "pygments_lexer": "ipython3",
      "version": "3.10.11"
    }
  },
  "nbformat": 4,
  "nbformat_minor": 0
}
