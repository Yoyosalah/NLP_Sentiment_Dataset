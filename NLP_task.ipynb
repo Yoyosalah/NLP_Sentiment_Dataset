{
  "cells": [
    {
      "cell_type": "code",
      "execution_count": 5,
      "metadata": {},
      "outputs": [
        {
          "name": "stdout",
          "output_type": "stream",
          "text": [
            "[PhysicalDevice(name='/physical_device:CPU:0', device_type='CPU'), PhysicalDevice(name='/physical_device:GPU:0', device_type='GPU')]\n"
          ]
        }
      ],
      "source": [
        "import tensorflow as tf\n",
        "print(tf.config.list_physical_devices())"
      ]
    },
    {
      "cell_type": "markdown",
      "metadata": {
        "id": "dpKLxZ8mNTGE"
      },
      "source": [
        "# NLP Lab Task — Preprocessing to Deployment with Twitter Sentiment Dataset\n",
        "\n",
        "## Overview\n",
        "\n",
        "This lab takes students through the **entire NLP pipeline** using a **Twitter Sentiment Analysis dataset** (tweets labeled as positive, negative, or neutral). Students will preprocess the data, represent it using multiple methods, train classical machine learning models, evaluate their results, and finally build a small API for deployment.\n",
        "\n",
        "---\n",
        "\n",
        "## Learning Objectives\n",
        "\n",
        "* Apply text preprocessing (regex, case folding, tokenization, stopword removal, punctuation handling).\n",
        "* Compare stemming and lemmatization, and use POS tagging to analyze counts of nouns, verbs, and adjectives.\n",
        "* Build text representations using **Bag-of-Words**, **TF–IDF**, and **Word2Vec**.\n",
        "* Train classical ML models inside an sklearn **Pipeline**.\n",
        "* Evaluate models with standard metrics and perform basic error analysis.\n",
        "* Save a trained pipeline and build a simple API to serve predictions.\n",
        "\n",
        "---\n",
        "\n",
        "## Dataset\n",
        "\n",
        "We will use the **Sentiment140 Twitter dataset** (1.6M tweets, labeled positive/negative). For simplicity, you can work with a smaller balanced subset (e.g., 10k–20k tweets). This dataset is widely used for sentiment analysis and contains real, noisy text with mentions, hashtags, and emoticons.\n",
        "\n",
        "Dataset link: [Sentiment140](http://help.sentiment140.com/for-students/)\n",
        "\n",
        "---\n",
        "\n",
        "## Step-by-Step Tasks\n",
        "\n",
        "### 1) Exploratory Data Analysis (EDA)\n",
        "\n",
        "* Load dataset, show class distribution, tweet length histogram, and a few sample tweets.\n",
        "* Deliverable: 3 plots (class balance, length histogram, top frequent tokens) + 5 example tweets.\n",
        "\n",
        "### 2) Regex Cleaning\n",
        "\n",
        "* Remove URLs, mentions (@user), hashtags, emojis (or replace with tokens), and extra whitespace.\n",
        "* Show a before-and-after example for at least 3 tweets.\n",
        "\n",
        "### 3) Case Folding & Tokenization\n",
        "\n",
        "* Convert all text to lowercase.\n",
        "* Tokenize tweets using NLTK or spaCy.\n",
        "* Compare vocabulary size before and after cleaning.\n",
        "\n",
        "### 4) Stopwords, Punctuation, and Numbers\n",
        "\n",
        "* Remove stopwords (with NLTK list, customizable).\n",
        "* Decide how to handle punctuation and numbers (remove or replace with `<NUM>`).\n",
        "* Deliverable: short explanation of your choice.\n",
        "\n",
        "### 5) Stemming vs Lemmatization\n",
        "\n",
        "* Use PorterStemmer (stemming) and spaCy lemmatizer.\n",
        "* Show 20 sample words with their stem vs lemma.\n",
        "* Train quick models with both and compare results.\n",
        "\n",
        "### 6) POS Tagging (extra features)\n",
        "\n",
        "* Use spaCy to count nouns, verbs, and adjectives per tweet.\n",
        "* Add these counts as additional numeric features.\n",
        "* Compare model with vs without POS features.\n",
        "\n",
        "### 7) Text Representation\n",
        "\n",
        "* Implement three representations:\n",
        "  1. **Bag-of-Words** (CountVectorizer)\n",
        "  2. **TF–IDF** (TfidfVectorizer)\n",
        "  3. **Word2Vec** (pretrained embeddings, averaged per tweet)\n",
        "* Compare vocabulary sizes and representation dimensions.\n",
        "\n",
        "### 8) Modeling with Pipelines\n",
        "\n",
        "* Use sklearn Pipelines to connect preprocessing + vectorizer + classifier.\n",
        "* Models to try:\n",
        "  * Multinomial Naive Bayes (for BoW/TF–IDF)\n",
        "  * Logistic Regression\n",
        "  * Linear SVM\n",
        "* Deliverable: comparison table (accuracy, F1-score).\n",
        "\n",
        "### 9) Evaluation & Error Analysis\n",
        "\n",
        "* Use held-out test set.\n",
        "* Metrics: accuracy, precision, recall, F1, confusion matrix.\n",
        "* Show 10 misclassified tweets and discuss why they may be difficult.\n",
        "\n",
        "### 10) Save Model Pipeline\n",
        "\n",
        "* Save the best pipeline using `joblib` or `pickle`.\n",
        "* Deliverable: `sentiment_model.pkl` file.\n",
        "\n",
        "### 11) Build a Simple API (Deployment Step)\n",
        "\n",
        "* Create a small Flask API with one endpoint `/predict` that accepts a tweet as input and returns sentiment prediction.\n",
        "* The API should load the saved pipeline and make predictions.\n",
        "* Deliverable: `app.py` with Flask code + test with a sample curl or Postman request.\n",
        "\n",
        "---\n",
        "\n",
        "## Deliverables\n",
        "\n",
        "1. Jupyter Notebook with step-by-step tasks, results, and code.\n",
        "2. Comparison tables for preprocessing choices and representations.\n",
        "3. Saved pipeline file (`.pkl`).\n",
        "4. Flask API script (`app.py`).\n",
        "5. Short report in markdown cell summarizing preprocessing, modeling choices, and results.\n",
        "\n",
        "---\n",
        "\n",
        "This streamlined lab ensures students get hands-on experience with **real-world text preprocessing, classical modeling, and deployment of NLP systems**.\n"
      ]
    },
    {
      "cell_type": "markdown",
      "metadata": {
        "id": "g5JhT6qqMzOr"
      },
      "source": [
        "### 1. Load the Dataset\n",
        "\n",
        "We will use the **Sentiment140 Twitter Sentiment dataset**.  \n",
        "It contains 1.6 million tweets labeled as positive (4) or negative (0).  \n",
        "For this lab, we will load a smaller subset (e.g., 20,000 rows) for faster experimentation.\n",
        "\n",
        "```python\n",
        "import pandas as pd\n",
        "\n",
        "# Column order for Sentiment140 dataset:\n",
        "# 0 - target (0 = negative, 4 = positive)\n",
        "# 1 - ids\n",
        "# 2 - date\n",
        "# 3 - flag\n",
        "# 4 - user\n",
        "# 5 - text (tweet)\n",
        "\n",
        "# Update the file path if needed\n",
        "file_path = \"sentiment140.csv\"\n",
        "\n",
        "# Load with proper encoding\n",
        "df = pd.read_csv(file_path, encoding='latin-1', header=None)\n",
        "\n",
        "# Assign column names\n",
        "df.columns = [\"target\", \"id\", \"date\", \"flag\", \"user\", \"text\"]\n",
        "\n",
        "# Map target labels: 0 → negative, 4 → positive\n",
        "df[\"target\"] = df[\"target\"].map({0: \"negative\", 4: \"positive\"})\n",
        "\n",
        "# Take a smaller sample for experiments (optional)\n",
        "df = df.sample(20000, random_state=42).reset_index(drop=True)\n",
        "\n",
        "# Quick check\n",
        "print(df.shape)\n",
        "df.head()\n"
      ]
    },
    {
      "cell_type": "code",
      "execution_count": 6,
      "metadata": {
        "colab": {
          "base_uri": "https://localhost:8080/"
        },
        "id": "FckTkNZyMqJw",
        "outputId": "0eb78a1b-f5ff-4a8f-b740-ab419b98e42f"
      },
      "outputs": [
        {
          "name": "stdout",
          "output_type": "stream",
          "text": [
            "(20000, 6)\n",
            "Training set: (1600000, 6)\n",
            "     target          id                          date      flag  \\\n",
            "0  negative  1467810369  Mon Apr 06 22:19:45 PDT 2009  NO_QUERY   \n",
            "1  negative  1467810672  Mon Apr 06 22:19:49 PDT 2009  NO_QUERY   \n",
            "2  negative  1467810917  Mon Apr 06 22:19:53 PDT 2009  NO_QUERY   \n",
            "3  negative  1467811184  Mon Apr 06 22:19:57 PDT 2009  NO_QUERY   \n",
            "4  negative  1467811193  Mon Apr 06 22:19:57 PDT 2009  NO_QUERY   \n",
            "\n",
            "              user                                               text  \n",
            "0  _TheSpecialOne_  @switchfoot http://twitpic.com/2y1zl - Awww, t...  \n",
            "1    scotthamilton  is upset that he can't update his Facebook by ...  \n",
            "2         mattycus  @Kenichan I dived many times for the ball. Man...  \n",
            "3          ElleCTF    my whole body feels itchy and like its on fire   \n",
            "4           Karoli  @nationwideclass no, it's not behaving at all....  \n",
            "Test set: (498, 6)\n",
            "     target  id                          date     flag      user  \\\n",
            "0  positive   3  Mon May 11 03:17:40 UTC 2009  kindle2    tpryan   \n",
            "1  positive   4  Mon May 11 03:18:03 UTC 2009  kindle2    vcu451   \n",
            "2  positive   5  Mon May 11 03:18:54 UTC 2009  kindle2    chadfu   \n",
            "3  positive   6  Mon May 11 03:19:04 UTC 2009  kindle2     SIX15   \n",
            "4  positive   7  Mon May 11 03:21:41 UTC 2009  kindle2  yamarama   \n",
            "\n",
            "                                                text  \n",
            "0  @stellargirl I loooooooovvvvvveee my Kindle2. ...  \n",
            "1  Reading my kindle2...  Love it... Lee childs i...  \n",
            "2  Ok, first assesment of the #kindle2 ...it fuck...  \n",
            "3  @kenburbary You'll love your Kindle2. I've had...  \n",
            "4  @mikefish  Fair enough. But i have the Kindle2...  \n"
          ]
        }
      ],
      "source": [
        "import pandas as pd\n",
        "import zipfile\n",
        "import os\n",
        "import requests\n",
        "\n",
        "# Step 1: Download the dataset (if not already downloaded)\n",
        "url = \"https://cs.stanford.edu/people/alecmgo/trainingandtestdata.zip\"\n",
        "zip_path = \"trainingandtestdata.zip\"\n",
        "\n",
        "if not os.path.exists(zip_path):\n",
        "    print(\"Downloading dataset...\")\n",
        "    r = requests.get(url)\n",
        "    with open(zip_path, \"wb\") as f:\n",
        "        f.write(r.content)\n",
        "\n",
        "# Step 2: Unzip the file\n",
        "with zipfile.ZipFile(zip_path, \"r\") as zip_ref:\n",
        "    zip_ref.extractall(\".\")\n",
        "\n",
        "# Step 3: Load training data\n",
        "file_path = \"training.1600000.processed.noemoticon.csv\"\n",
        "\n",
        "df = pd.read_csv(file_path, encoding=\"latin-1\", header=None)\n",
        "df.columns = [\"target\", \"id\", \"date\", \"flag\", \"user\", \"text\"]\n",
        "\n",
        "# Map sentiment labels: 0 = negative, 4 = positive\n",
        "df[\"target\"] = df[\"target\"].map({0: \"negative\", 4: \"positive\"})\n",
        "\n",
        "# Optional: sample a smaller dataset for quicker experiments\n",
        "df = df.sample(20000, random_state=42).reset_index(drop=True)\n",
        "\n",
        "# Preview the data\n",
        "print(df.shape)\n",
        "df.head()\n",
        "\n",
        "\n",
        "# Load training set\n",
        "train_path = \"training.1600000.processed.noemoticon.csv\"\n",
        "train_df = pd.read_csv(train_path, encoding=\"latin-1\", header=None)\n",
        "train_df.columns = [\"target\", \"id\", \"date\", \"flag\", \"user\", \"text\"]\n",
        "train_df[\"target\"] = train_df[\"target\"].map({0: \"negative\", 4: \"positive\"})\n",
        "\n",
        "print(\"Training set:\", train_df.shape)\n",
        "print(train_df.head())\n",
        "\n",
        "# Load manual test set\n",
        "test_path = \"testdata.manual.2009.06.14.csv\"\n",
        "test_df = pd.read_csv(test_path, encoding=\"latin-1\", header=None)\n",
        "test_df.columns = [\"target\", \"id\", \"date\", \"flag\", \"user\", \"text\"]\n",
        "\n",
        "# This test set has labels 0 (negative), 2 (neutral), 4 (positive)\n",
        "test_df[\"target\"] = test_df[\"target\"].map({0: \"negative\", 2: \"neutral\", 4: \"positive\"})\n",
        "\n",
        "print(\"Test set:\", test_df.shape)\n",
        "print(test_df.head())\n"
      ]
    },
    {
      "cell_type": "markdown",
      "metadata": {},
      "source": [
        "### EDA"
      ]
    },
    {
      "cell_type": "code",
      "execution_count": 7,
      "metadata": {},
      "outputs": [],
      "source": [
        "import matplotlib.pyplot as plt\n",
        "import numpy as np\n",
        "import seaborn as sns"
      ]
    },
    {
      "cell_type": "code",
      "execution_count": 8,
      "metadata": {
        "id": "jZgsBciEMrFj"
      },
      "outputs": [
        {
          "data": {
            "text/html": [
              "<div>\n",
              "<style scoped>\n",
              "    .dataframe tbody tr th:only-of-type {\n",
              "        vertical-align: middle;\n",
              "    }\n",
              "\n",
              "    .dataframe tbody tr th {\n",
              "        vertical-align: top;\n",
              "    }\n",
              "\n",
              "    .dataframe thead th {\n",
              "        text-align: right;\n",
              "    }\n",
              "</style>\n",
              "<table border=\"1\" class=\"dataframe\">\n",
              "  <thead>\n",
              "    <tr style=\"text-align: right;\">\n",
              "      <th></th>\n",
              "      <th>target</th>\n",
              "      <th>id</th>\n",
              "      <th>date</th>\n",
              "      <th>flag</th>\n",
              "      <th>user</th>\n",
              "      <th>text</th>\n",
              "    </tr>\n",
              "  </thead>\n",
              "  <tbody>\n",
              "    <tr>\n",
              "      <th>0</th>\n",
              "      <td>negative</td>\n",
              "      <td>2200003196</td>\n",
              "      <td>Tue Jun 16 18:18:12 PDT 2009</td>\n",
              "      <td>NO_QUERY</td>\n",
              "      <td>LaLaLindsey0609</td>\n",
              "      <td>@chrishasboobs AHHH I HOPE YOUR OK!!!</td>\n",
              "    </tr>\n",
              "    <tr>\n",
              "      <th>1</th>\n",
              "      <td>negative</td>\n",
              "      <td>1467998485</td>\n",
              "      <td>Mon Apr 06 23:11:14 PDT 2009</td>\n",
              "      <td>NO_QUERY</td>\n",
              "      <td>sexygrneyes</td>\n",
              "      <td>@misstoriblack cool , i have no tweet apps  fo...</td>\n",
              "    </tr>\n",
              "    <tr>\n",
              "      <th>2</th>\n",
              "      <td>negative</td>\n",
              "      <td>2300048954</td>\n",
              "      <td>Tue Jun 23 13:40:11 PDT 2009</td>\n",
              "      <td>NO_QUERY</td>\n",
              "      <td>sammydearr</td>\n",
              "      <td>@TiannaChaos i know  just family drama. its la...</td>\n",
              "    </tr>\n",
              "    <tr>\n",
              "      <th>3</th>\n",
              "      <td>negative</td>\n",
              "      <td>1993474027</td>\n",
              "      <td>Mon Jun 01 10:26:07 PDT 2009</td>\n",
              "      <td>NO_QUERY</td>\n",
              "      <td>Lamb_Leanne</td>\n",
              "      <td>School email won't open  and I have geography ...</td>\n",
              "    </tr>\n",
              "    <tr>\n",
              "      <th>4</th>\n",
              "      <td>negative</td>\n",
              "      <td>2256550904</td>\n",
              "      <td>Sat Jun 20 12:56:51 PDT 2009</td>\n",
              "      <td>NO_QUERY</td>\n",
              "      <td>yogicerdito</td>\n",
              "      <td>upper airways problem</td>\n",
              "    </tr>\n",
              "    <tr>\n",
              "      <th>...</th>\n",
              "      <td>...</td>\n",
              "      <td>...</td>\n",
              "      <td>...</td>\n",
              "      <td>...</td>\n",
              "      <td>...</td>\n",
              "      <td>...</td>\n",
              "    </tr>\n",
              "    <tr>\n",
              "      <th>19995</th>\n",
              "      <td>positive</td>\n",
              "      <td>1981517014</td>\n",
              "      <td>Sun May 31 09:19:12 PDT 2009</td>\n",
              "      <td>NO_QUERY</td>\n",
              "      <td>gemmaridlington</td>\n",
              "      <td>Loving the weather  Although we're not having ...</td>\n",
              "    </tr>\n",
              "    <tr>\n",
              "      <th>19996</th>\n",
              "      <td>negative</td>\n",
              "      <td>2245469775</td>\n",
              "      <td>Fri Jun 19 16:10:38 PDT 2009</td>\n",
              "      <td>NO_QUERY</td>\n",
              "      <td>musicroxmysockz</td>\n",
              "      <td>Me and andrea r. last day of school.....  http...</td>\n",
              "    </tr>\n",
              "    <tr>\n",
              "      <th>19997</th>\n",
              "      <td>positive</td>\n",
              "      <td>2063022808</td>\n",
              "      <td>Sun Jun 07 01:05:46 PDT 2009</td>\n",
              "      <td>NO_QUERY</td>\n",
              "      <td>ElaineToni</td>\n",
              "      <td>Just finished watching Your Song Presents: Boy...</td>\n",
              "    </tr>\n",
              "    <tr>\n",
              "      <th>19998</th>\n",
              "      <td>positive</td>\n",
              "      <td>1982082859</td>\n",
              "      <td>Sun May 31 10:29:36 PDT 2009</td>\n",
              "      <td>NO_QUERY</td>\n",
              "      <td>lindseyrd20</td>\n",
              "      <td>@janfran813 awww i can't wait to get one</td>\n",
              "    </tr>\n",
              "    <tr>\n",
              "      <th>19999</th>\n",
              "      <td>negative</td>\n",
              "      <td>2191411608</td>\n",
              "      <td>Tue Jun 16 05:13:11 PDT 2009</td>\n",
              "      <td>NO_QUERY</td>\n",
              "      <td>spiritkl</td>\n",
              "      <td>is indeed, a rather large hoarder of paper. &amp;a...</td>\n",
              "    </tr>\n",
              "  </tbody>\n",
              "</table>\n",
              "<p>20000 rows × 6 columns</p>\n",
              "</div>"
            ],
            "text/plain": [
              "         target          id                          date      flag  \\\n",
              "0      negative  2200003196  Tue Jun 16 18:18:12 PDT 2009  NO_QUERY   \n",
              "1      negative  1467998485  Mon Apr 06 23:11:14 PDT 2009  NO_QUERY   \n",
              "2      negative  2300048954  Tue Jun 23 13:40:11 PDT 2009  NO_QUERY   \n",
              "3      negative  1993474027  Mon Jun 01 10:26:07 PDT 2009  NO_QUERY   \n",
              "4      negative  2256550904  Sat Jun 20 12:56:51 PDT 2009  NO_QUERY   \n",
              "...         ...         ...                           ...       ...   \n",
              "19995  positive  1981517014  Sun May 31 09:19:12 PDT 2009  NO_QUERY   \n",
              "19996  negative  2245469775  Fri Jun 19 16:10:38 PDT 2009  NO_QUERY   \n",
              "19997  positive  2063022808  Sun Jun 07 01:05:46 PDT 2009  NO_QUERY   \n",
              "19998  positive  1982082859  Sun May 31 10:29:36 PDT 2009  NO_QUERY   \n",
              "19999  negative  2191411608  Tue Jun 16 05:13:11 PDT 2009  NO_QUERY   \n",
              "\n",
              "                  user                                               text  \n",
              "0      LaLaLindsey0609             @chrishasboobs AHHH I HOPE YOUR OK!!!   \n",
              "1          sexygrneyes  @misstoriblack cool , i have no tweet apps  fo...  \n",
              "2           sammydearr  @TiannaChaos i know  just family drama. its la...  \n",
              "3          Lamb_Leanne  School email won't open  and I have geography ...  \n",
              "4          yogicerdito                             upper airways problem   \n",
              "...                ...                                                ...  \n",
              "19995  gemmaridlington  Loving the weather  Although we're not having ...  \n",
              "19996  musicroxmysockz  Me and andrea r. last day of school.....  http...  \n",
              "19997       ElaineToni  Just finished watching Your Song Presents: Boy...  \n",
              "19998      lindseyrd20          @janfran813 awww i can't wait to get one   \n",
              "19999         spiritkl  is indeed, a rather large hoarder of paper. &a...  \n",
              "\n",
              "[20000 rows x 6 columns]"
            ]
          },
          "execution_count": 8,
          "metadata": {},
          "output_type": "execute_result"
        }
      ],
      "source": [
        "df"
      ]
    },
    {
      "cell_type": "code",
      "execution_count": 9,
      "metadata": {},
      "outputs": [
        {
          "name": "stdout",
          "output_type": "stream",
          "text": [
            "duplicates: 0\n",
            "nulls: 0\n"
          ]
        }
      ],
      "source": [
        "print('duplicates:',df.duplicated().sum())\n",
        "print('nulls:',df.isna().sum().sum())"
      ]
    },
    {
      "cell_type": "code",
      "execution_count": 10,
      "metadata": {},
      "outputs": [
        {
          "data": {
            "image/png": "[encoded data removed]",
            "text/plain": [
              "<Figure size 640x480 with 1 Axes>"
            ]
          },
          "metadata": {},
          "output_type": "display_data"
        },
        {
          "name": "stdout",
          "output_type": "stream",
          "text": [
            "positive    0.5029\n",
            "negative    0.4971\n",
            "Name: target, dtype: float64\n"
          ]
        }
      ],
      "source": [
        "sns.countplot(data=df,x='target')\n",
        "plt.show()\n",
        "print(df['target'].value_counts(normalize=True))"
      ]
    },
    {
      "cell_type": "markdown",
      "metadata": {},
      "source": [
        "- classes are really well balanced"
      ]
    },
    {
      "cell_type": "code",
      "execution_count": 11,
      "metadata": {},
      "outputs": [],
      "source": [
        "import nltk\n",
        "import spacy"
      ]
    },
    {
      "cell_type": "code",
      "execution_count": 12,
      "metadata": {},
      "outputs": [
        {
          "name": "stderr",
          "output_type": "stream",
          "text": [
            "[nltk_data] Downloading package punkt to\n",
            "[nltk_data]     C:\\Users\\Youss\\AppData\\Roaming\\nltk_data...\n",
            "[nltk_data]   Package punkt is already up-to-date!\n"
          ]
        },
        {
          "data": {
            "image/png": "[encoded data removed]",
            "text/plain": [
              "<Figure size 640x480 with 1 Axes>"
            ]
          },
          "metadata": {},
          "output_type": "display_data"
        },
        {
          "name": "stdout",
          "output_type": "stream",
          "text": [
            "mean =  16.40305\n"
          ]
        }
      ],
      "source": [
        "nltk.download('punkt')\n",
        "df[\"No_of_Words\"] = df.apply(lambda row: nltk.word_tokenize(row['text']), axis=1).apply(len)\n",
        "\n",
        "sns.histplot(data=df,x='No_of_Words')\n",
        "plt.show()\n",
        "print(\"mean = \",df['No_of_Words'].mean())"
      ]
    },
    {
      "cell_type": "code",
      "execution_count": 13,
      "metadata": {},
      "outputs": [
        {
          "name": "stderr",
          "output_type": "stream",
          "text": [
            "[nltk_data] Downloading package stopwords to\n",
            "[nltk_data]     C:\\Users\\Youss\\AppData\\Roaming\\nltk_data...\n",
            "[nltk_data]   Package stopwords is already up-to-date!\n"
          ]
        }
      ],
      "source": [
        "import string\n",
        "from nltk.corpus import stopwords\n",
        "nltk.download('stopwords')\n",
        "\n",
        "stop_words = set(stopwords.words(\"english\"))\n",
        "punctuations = set(string.punctuation)\n",
        "freq_dict = {}\n",
        "\n",
        "for tweet in df['text']:\n",
        "    tokens = nltk.word_tokenize(tweet.lower())\n",
        "    for token in tokens:\n",
        "        if token not in stop_words and token not in punctuations:\n",
        "            freq_dict[token] = freq_dict.get(token, 0) + 1"
      ]
    },
    {
      "cell_type": "code",
      "execution_count": 14,
      "metadata": {},
      "outputs": [
        {
          "data": {
            "text/plain": [
              "...     2751\n",
              "'s      2191\n",
              "n't     2191\n",
              "'m      1682\n",
              "..      1316\n",
              "good    1143\n",
              "get     1010\n",
              "day     1003\n",
              "like     982\n",
              "quot     967\n",
              "dtype: int64"
            ]
          },
          "execution_count": 14,
          "metadata": {},
          "output_type": "execute_result"
        }
      ],
      "source": [
        "freq = pd.Series(data=freq_dict)\n",
        "freq.sort_values(ascending=False).head(10)"
      ]
    },
    {
      "cell_type": "code",
      "execution_count": 15,
      "metadata": {},
      "outputs": [
        {
          "name": "stdout",
          "output_type": "stream",
          "text": [
            "0                                                                                                           @chrishasboobs AHHH I HOPE YOUR OK!!! \n",
            "1                                                                                        @misstoriblack cool , i have no tweet apps  for my razr 2\n",
            "2        @TiannaChaos i know  just family drama. its lame.hey next time u hang out with kim n u guys like have a sleepover or whatever, ill call u\n",
            "3                                                      School email won't open  and I have geography stuff on there to revise! *Stupid School* :'(\n",
            "4                                                                                                                           upper airways problem \n",
            "                                                                           ...                                                                    \n",
            "19995                                      Loving the weather  Although we're not having a bbq this evening as apparently 3 in 3 days is too much.\n",
            "19996                                                                           Me and andrea r. last day of school.....  http://twitpic.com/7uif1\n",
            "19997                                                                                        Just finished watching Your Song Presents: Boystown. \n",
            "19998                                                                                                    @janfran813 awww i can't wait to get one \n",
            "19999                                                is indeed, a rather large hoarder of paper. &amp; would love some help &amp; company packing \n",
            "Name: text, Length: 20000, dtype: object\n"
          ]
        }
      ],
      "source": [
        "pd.set_option(\"display.max_colwidth\", None)\n",
        "print(df['text'])"
      ]
    },
    {
      "cell_type": "markdown",
      "metadata": {},
      "source": [
        "### Preprocessing"
      ]
    },
    {
      "cell_type": "code",
      "execution_count": 16,
      "metadata": {},
      "outputs": [
        {
          "data": {
            "text/plain": [
              "0        0\n",
              "1        0\n",
              "2        0\n",
              "3        0\n",
              "4        0\n",
              "        ..\n",
              "19995    1\n",
              "19996    0\n",
              "19997    1\n",
              "19998    1\n",
              "19999    0\n",
              "Name: target_encoded, Length: 20000, dtype: int64"
            ]
          },
          "execution_count": 16,
          "metadata": {},
          "output_type": "execute_result"
        }
      ],
      "source": [
        "df['target_encoded'] = df['target'].map({'negative': 0, 'positive': 1})\n",
        "df['target_encoded']"
      ]
    },
    {
      "cell_type": "markdown",
      "metadata": {},
      "source": [
        "#### Regex Cleaning"
      ]
    },
    {
      "cell_type": "code",
      "execution_count": 20,
      "metadata": {},
      "outputs": [
        {
          "data": {
            "text/html": [
              "<div>\n",
              "<style scoped>\n",
              "    .dataframe tbody tr th:only-of-type {\n",
              "        vertical-align: middle;\n",
              "    }\n",
              "\n",
              "    .dataframe tbody tr th {\n",
              "        vertical-align: top;\n",
              "    }\n",
              "\n",
              "    .dataframe thead th {\n",
              "        text-align: right;\n",
              "    }\n",
              "</style>\n",
              "<table border=\"1\" class=\"dataframe\">\n",
              "  <thead>\n",
              "    <tr style=\"text-align: right;\">\n",
              "      <th></th>\n",
              "      <th>text</th>\n",
              "      <th>regex_text</th>\n",
              "    </tr>\n",
              "  </thead>\n",
              "  <tbody>\n",
              "    <tr>\n",
              "      <th>0</th>\n",
              "      <td>@chrishasboobs AHHH I HOPE YOUR OK!!!</td>\n",
              "      <td>AHHH I HOPE YOUR OK!!!</td>\n",
              "    </tr>\n",
              "    <tr>\n",
              "      <th>1</th>\n",
              "      <td>@misstoriblack cool , i have no tweet apps  for my razr 2</td>\n",
              "      <td>cool i have no tweet apps for my razr</td>\n",
              "    </tr>\n",
              "    <tr>\n",
              "      <th>2</th>\n",
              "      <td>@TiannaChaos i know  just family drama. its lame.hey next time u hang out with kim n u guys like have a sleepover or whatever, ill call u</td>\n",
              "      <td>i know just family drama its lamehey next time u hang out with kim n u guys like have a sleepover or whatever ill call u</td>\n",
              "    </tr>\n",
              "    <tr>\n",
              "      <th>3</th>\n",
              "      <td>School email won't open  and I have geography stuff on there to revise! *Stupid School* :'(</td>\n",
              "      <td>School email wont open and I have geography stuff on there to revise! Stupid School</td>\n",
              "    </tr>\n",
              "    <tr>\n",
              "      <th>4</th>\n",
              "      <td>upper airways problem</td>\n",
              "      <td>upper airways problem</td>\n",
              "    </tr>\n",
              "  </tbody>\n",
              "</table>\n",
              "</div>"
            ],
            "text/plain": [
              "                                                                                                                                        text  \\\n",
              "0                                                                                                     @chrishasboobs AHHH I HOPE YOUR OK!!!    \n",
              "1                                                                                  @misstoriblack cool , i have no tweet apps  for my razr 2   \n",
              "2  @TiannaChaos i know  just family drama. its lame.hey next time u hang out with kim n u guys like have a sleepover or whatever, ill call u   \n",
              "3                                                School email won't open  and I have geography stuff on there to revise! *Stupid School* :'(   \n",
              "4                                                                                                                     upper airways problem    \n",
              "\n",
              "                                                                                                                 regex_text  \n",
              "0                                                                                                    AHHH I HOPE YOUR OK!!!  \n",
              "1                                                                                     cool i have no tweet apps for my razr  \n",
              "2  i know just family drama its lamehey next time u hang out with kim n u guys like have a sleepover or whatever ill call u  \n",
              "3                                       School email wont open and I have geography stuff on there to revise! Stupid School  \n",
              "4                                                                                                     upper airways problem  "
            ]
          },
          "execution_count": 20,
          "metadata": {},
          "output_type": "execute_result"
        }
      ],
      "source": [
        "import re\n",
        "def regex_clean(tweet):\n",
        "    tweet = re.sub(r\"http\\S+|www\\S+\", \"\", tweet)\n",
        "    tweet = re.sub(r\"@\\w+\", \"\", tweet)\n",
        "    tweet = re.sub(r\"#\\w+\", \"\", tweet)\n",
        "    tweet = re.sub(r\"[^a-zA-Z\\s!?]\", \"\", tweet) #left ?,! as they could show emotion not just words\n",
        "    tweet = re.sub(r\"\\s+\", \" \", tweet).strip()\n",
        "    return tweet\n",
        "\n",
        "df['regex_text'] = df['text'].apply(regex_clean)\n",
        "\n",
        "df[['text','regex_text']].head()\n",
        "\n"
      ]
    },
    {
      "cell_type": "markdown",
      "metadata": {},
      "source": [
        "#### Case Folding & Tokenization"
      ]
    },
    {
      "cell_type": "code",
      "execution_count": 21,
      "metadata": {},
      "outputs": [
        {
          "data": {
            "text/html": [
              "<div>\n",
              "<style scoped>\n",
              "    .dataframe tbody tr th:only-of-type {\n",
              "        vertical-align: middle;\n",
              "    }\n",
              "\n",
              "    .dataframe tbody tr th {\n",
              "        vertical-align: top;\n",
              "    }\n",
              "\n",
              "    .dataframe thead th {\n",
              "        text-align: right;\n",
              "    }\n",
              "</style>\n",
              "<table border=\"1\" class=\"dataframe\">\n",
              "  <thead>\n",
              "    <tr style=\"text-align: right;\">\n",
              "      <th></th>\n",
              "      <th>regex_text</th>\n",
              "      <th>case_re_text</th>\n",
              "    </tr>\n",
              "  </thead>\n",
              "  <tbody>\n",
              "    <tr>\n",
              "      <th>0</th>\n",
              "      <td>AHHH I HOPE YOUR OK!!!</td>\n",
              "      <td>ahhh i hope your ok!!!</td>\n",
              "    </tr>\n",
              "    <tr>\n",
              "      <th>1</th>\n",
              "      <td>cool i have no tweet apps for my razr</td>\n",
              "      <td>cool i have no tweet apps for my razr</td>\n",
              "    </tr>\n",
              "    <tr>\n",
              "      <th>2</th>\n",
              "      <td>i know just family drama its lamehey next time u hang out with kim n u guys like have a sleepover or whatever ill call u</td>\n",
              "      <td>i know just family drama its lamehey next time u hang out with kim n u guys like have a sleepover or whatever ill call u</td>\n",
              "    </tr>\n",
              "    <tr>\n",
              "      <th>3</th>\n",
              "      <td>School email wont open and I have geography stuff on there to revise! Stupid School</td>\n",
              "      <td>school email wont open and i have geography stuff on there to revise! stupid school</td>\n",
              "    </tr>\n",
              "    <tr>\n",
              "      <th>4</th>\n",
              "      <td>upper airways problem</td>\n",
              "      <td>upper airways problem</td>\n",
              "    </tr>\n",
              "  </tbody>\n",
              "</table>\n",
              "</div>"
            ],
            "text/plain": [
              "                                                                                                                 regex_text  \\\n",
              "0                                                                                                    AHHH I HOPE YOUR OK!!!   \n",
              "1                                                                                     cool i have no tweet apps for my razr   \n",
              "2  i know just family drama its lamehey next time u hang out with kim n u guys like have a sleepover or whatever ill call u   \n",
              "3                                       School email wont open and I have geography stuff on there to revise! Stupid School   \n",
              "4                                                                                                     upper airways problem   \n",
              "\n",
              "                                                                                                               case_re_text  \n",
              "0                                                                                                    ahhh i hope your ok!!!  \n",
              "1                                                                                     cool i have no tweet apps for my razr  \n",
              "2  i know just family drama its lamehey next time u hang out with kim n u guys like have a sleepover or whatever ill call u  \n",
              "3                                       school email wont open and i have geography stuff on there to revise! stupid school  \n",
              "4                                                                                                     upper airways problem  "
            ]
          },
          "execution_count": 21,
          "metadata": {},
          "output_type": "execute_result"
        }
      ],
      "source": [
        "df['case_re_text'] = df['regex_text'].apply(lambda x:x.lower())\n",
        "df[['regex_text','case_re_text']].head()"
      ]
    },
    {
      "cell_type": "code",
      "execution_count": 22,
      "metadata": {},
      "outputs": [
        {
          "data": {
            "text/html": [
              "<div>\n",
              "<style scoped>\n",
              "    .dataframe tbody tr th:only-of-type {\n",
              "        vertical-align: middle;\n",
              "    }\n",
              "\n",
              "    .dataframe tbody tr th {\n",
              "        vertical-align: top;\n",
              "    }\n",
              "\n",
              "    .dataframe thead th {\n",
              "        text-align: right;\n",
              "    }\n",
              "</style>\n",
              "<table border=\"1\" class=\"dataframe\">\n",
              "  <thead>\n",
              "    <tr style=\"text-align: right;\">\n",
              "      <th></th>\n",
              "      <th>case_re_text</th>\n",
              "      <th>tokenized_case_re_text</th>\n",
              "    </tr>\n",
              "  </thead>\n",
              "  <tbody>\n",
              "    <tr>\n",
              "      <th>0</th>\n",
              "      <td>ahhh i hope your ok!!!</td>\n",
              "      <td>[ahhh, i, hope, your, ok, !, !, !]</td>\n",
              "    </tr>\n",
              "    <tr>\n",
              "      <th>1</th>\n",
              "      <td>cool i have no tweet apps for my razr</td>\n",
              "      <td>[cool, i, have, no, tweet, apps, for, my, razr]</td>\n",
              "    </tr>\n",
              "    <tr>\n",
              "      <th>2</th>\n",
              "      <td>i know just family drama its lamehey next time u hang out with kim n u guys like have a sleepover or whatever ill call u</td>\n",
              "      <td>[i, know, just, family, drama, its, lamehey, next, time, u, hang, out, with, kim, n, u, guys, like, have, a, sleepover, or, whatever, ill, call, u]</td>\n",
              "    </tr>\n",
              "    <tr>\n",
              "      <th>3</th>\n",
              "      <td>school email wont open and i have geography stuff on there to revise! stupid school</td>\n",
              "      <td>[school, email, wo, nt, open, and, i, have, geography, stuff, on, there, to, revise, !, stupid, school]</td>\n",
              "    </tr>\n",
              "    <tr>\n",
              "      <th>4</th>\n",
              "      <td>upper airways problem</td>\n",
              "      <td>[upper, airways, problem]</td>\n",
              "    </tr>\n",
              "  </tbody>\n",
              "</table>\n",
              "</div>"
            ],
            "text/plain": [
              "                                                                                                               case_re_text  \\\n",
              "0                                                                                                    ahhh i hope your ok!!!   \n",
              "1                                                                                     cool i have no tweet apps for my razr   \n",
              "2  i know just family drama its lamehey next time u hang out with kim n u guys like have a sleepover or whatever ill call u   \n",
              "3                                       school email wont open and i have geography stuff on there to revise! stupid school   \n",
              "4                                                                                                     upper airways problem   \n",
              "\n",
              "                                                                                                                                tokenized_case_re_text  \n",
              "0                                                                                                                   [ahhh, i, hope, your, ok, !, !, !]  \n",
              "1                                                                                                      [cool, i, have, no, tweet, apps, for, my, razr]  \n",
              "2  [i, know, just, family, drama, its, lamehey, next, time, u, hang, out, with, kim, n, u, guys, like, have, a, sleepover, or, whatever, ill, call, u]  \n",
              "3                                              [school, email, wo, nt, open, and, i, have, geography, stuff, on, there, to, revise, !, stupid, school]  \n",
              "4                                                                                                                            [upper, airways, problem]  "
            ]
          },
          "execution_count": 22,
          "metadata": {},
          "output_type": "execute_result"
        }
      ],
      "source": [
        "import spacy\n",
        "\n",
        "nlp = spacy.load('en_core_web_sm')\n",
        "\n",
        "df['tokenized_case_re_text'] = df['case_re_text'].apply(lambda x: [token for token in nlp(x)])\n",
        "df[['case_re_text','tokenized_case_re_text']].head()"
      ]
    },
    {
      "cell_type": "markdown",
      "metadata": {},
      "source": [
        "#### Stop words removal"
      ]
    },
    {
      "cell_type": "code",
      "execution_count": 23,
      "metadata": {},
      "outputs": [
        {
          "data": {
            "text/html": [
              "<div>\n",
              "<style scoped>\n",
              "    .dataframe tbody tr th:only-of-type {\n",
              "        vertical-align: middle;\n",
              "    }\n",
              "\n",
              "    .dataframe tbody tr th {\n",
              "        vertical-align: top;\n",
              "    }\n",
              "\n",
              "    .dataframe thead th {\n",
              "        text-align: right;\n",
              "    }\n",
              "</style>\n",
              "<table border=\"1\" class=\"dataframe\">\n",
              "  <thead>\n",
              "    <tr style=\"text-align: right;\">\n",
              "      <th></th>\n",
              "      <th>tokenized_case_re_text</th>\n",
              "      <th>tokenized_no_stop</th>\n",
              "    </tr>\n",
              "  </thead>\n",
              "  <tbody>\n",
              "    <tr>\n",
              "      <th>0</th>\n",
              "      <td>[ahhh, i, hope, your, ok, !, !, !]</td>\n",
              "      <td>[ahhh, i, hope, your, ok, !, !, !]</td>\n",
              "    </tr>\n",
              "    <tr>\n",
              "      <th>1</th>\n",
              "      <td>[cool, i, have, no, tweet, apps, for, my, razr]</td>\n",
              "      <td>[cool, i, have, no, tweet, apps, for, my, razr]</td>\n",
              "    </tr>\n",
              "    <tr>\n",
              "      <th>2</th>\n",
              "      <td>[i, know, just, family, drama, its, lamehey, next, time, u, hang, out, with, kim, n, u, guys, like, have, a, sleepover, or, whatever, ill, call, u]</td>\n",
              "      <td>[i, know, just, family, drama, its, lamehey, next, time, u, hang, out, with, kim, n, u, guys, like, have, a, sleepover, or, whatever, ill, call, u]</td>\n",
              "    </tr>\n",
              "    <tr>\n",
              "      <th>3</th>\n",
              "      <td>[school, email, wo, nt, open, and, i, have, geography, stuff, on, there, to, revise, !, stupid, school]</td>\n",
              "      <td>[school, email, wo, nt, open, and, i, have, geography, stuff, on, there, to, revise, !, stupid, school]</td>\n",
              "    </tr>\n",
              "    <tr>\n",
              "      <th>4</th>\n",
              "      <td>[upper, airways, problem]</td>\n",
              "      <td>[upper, airways, problem]</td>\n",
              "    </tr>\n",
              "  </tbody>\n",
              "</table>\n",
              "</div>"
            ],
            "text/plain": [
              "                                                                                                                                tokenized_case_re_text  \\\n",
              "0                                                                                                                   [ahhh, i, hope, your, ok, !, !, !]   \n",
              "1                                                                                                      [cool, i, have, no, tweet, apps, for, my, razr]   \n",
              "2  [i, know, just, family, drama, its, lamehey, next, time, u, hang, out, with, kim, n, u, guys, like, have, a, sleepover, or, whatever, ill, call, u]   \n",
              "3                                              [school, email, wo, nt, open, and, i, have, geography, stuff, on, there, to, revise, !, stupid, school]   \n",
              "4                                                                                                                            [upper, airways, problem]   \n",
              "\n",
              "                                                                                                                                     tokenized_no_stop  \n",
              "0                                                                                                                   [ahhh, i, hope, your, ok, !, !, !]  \n",
              "1                                                                                                      [cool, i, have, no, tweet, apps, for, my, razr]  \n",
              "2  [i, know, just, family, drama, its, lamehey, next, time, u, hang, out, with, kim, n, u, guys, like, have, a, sleepover, or, whatever, ill, call, u]  \n",
              "3                                              [school, email, wo, nt, open, and, i, have, geography, stuff, on, there, to, revise, !, stupid, school]  \n",
              "4                                                                                                                            [upper, airways, problem]  "
            ]
          },
          "execution_count": 23,
          "metadata": {},
          "output_type": "execute_result"
        }
      ],
      "source": [
        "stop_words = set(stopwords.words(\"english\"))\n",
        "\n",
        "df['tokenized_no_stop'] = df['tokenized_case_re_text'].apply(lambda x: [token for token in x if token not in stop_words])\n",
        "df[['tokenized_case_re_text','tokenized_no_stop']].head()"
      ]
    },
    {
      "cell_type": "markdown",
      "metadata": {},
      "source": [
        "- left the ! and ? as they have a sentimental meaning"
      ]
    },
    {
      "cell_type": "markdown",
      "metadata": {},
      "source": [
        "#### Stemming & Lemmitization"
      ]
    },
    {
      "cell_type": "code",
      "execution_count": 24,
      "metadata": {},
      "outputs": [
        {
          "data": {
            "text/html": [
              "<div>\n",
              "<style scoped>\n",
              "    .dataframe tbody tr th:only-of-type {\n",
              "        vertical-align: middle;\n",
              "    }\n",
              "\n",
              "    .dataframe tbody tr th {\n",
              "        vertical-align: top;\n",
              "    }\n",
              "\n",
              "    .dataframe thead th {\n",
              "        text-align: right;\n",
              "    }\n",
              "</style>\n",
              "<table border=\"1\" class=\"dataframe\">\n",
              "  <thead>\n",
              "    <tr style=\"text-align: right;\">\n",
              "      <th></th>\n",
              "      <th>tokenized_no_stop</th>\n",
              "      <th>stem_tokens</th>\n",
              "      <th>lemma_tokens</th>\n",
              "    </tr>\n",
              "  </thead>\n",
              "  <tbody>\n",
              "    <tr>\n",
              "      <th>0</th>\n",
              "      <td>[ahhh, i, hope, your, ok, !, !, !]</td>\n",
              "      <td>[ahhh, i, hope, your, ok, !, !, !]</td>\n",
              "      <td>[ahhh, I, hope, your, ok, !, !, !]</td>\n",
              "    </tr>\n",
              "    <tr>\n",
              "      <th>1</th>\n",
              "      <td>[cool, i, have, no, tweet, apps, for, my, razr]</td>\n",
              "      <td>[cool, i, have, no, tweet, app, for, my, razr]</td>\n",
              "      <td>[cool, I, have, no, tweet, app, for, my, razr]</td>\n",
              "    </tr>\n",
              "    <tr>\n",
              "      <th>2</th>\n",
              "      <td>[i, know, just, family, drama, its, lamehey, next, time, u, hang, out, with, kim, n, u, guys, like, have, a, sleepover, or, whatever, ill, call, u]</td>\n",
              "      <td>[i, know, just, famili, drama, it, lamehey, next, time, u, hang, out, with, kim, n, u, guy, like, have, a, sleepov, or, whatev, ill, call, u]</td>\n",
              "      <td>[I, know, just, family, drama, its, lamehey, next, time, u, hang, out, with, kim, n, u, guy, like, have, a, sleepover, or, whatever, ill, call, u]</td>\n",
              "    </tr>\n",
              "    <tr>\n",
              "      <th>3</th>\n",
              "      <td>[school, email, wo, nt, open, and, i, have, geography, stuff, on, there, to, revise, !, stupid, school]</td>\n",
              "      <td>[school, email, wo, nt, open, and, i, have, geographi, stuff, on, there, to, revis, !, stupid, school]</td>\n",
              "      <td>[school, email, will, not, open, and, I, have, geography, stuff, on, there, to, revise, !, stupid, school]</td>\n",
              "    </tr>\n",
              "    <tr>\n",
              "      <th>4</th>\n",
              "      <td>[upper, airways, problem]</td>\n",
              "      <td>[upper, airway, problem]</td>\n",
              "      <td>[upper, airway, problem]</td>\n",
              "    </tr>\n",
              "  </tbody>\n",
              "</table>\n",
              "</div>"
            ],
            "text/plain": [
              "                                                                                                                                     tokenized_no_stop  \\\n",
              "0                                                                                                                   [ahhh, i, hope, your, ok, !, !, !]   \n",
              "1                                                                                                      [cool, i, have, no, tweet, apps, for, my, razr]   \n",
              "2  [i, know, just, family, drama, its, lamehey, next, time, u, hang, out, with, kim, n, u, guys, like, have, a, sleepover, or, whatever, ill, call, u]   \n",
              "3                                              [school, email, wo, nt, open, and, i, have, geography, stuff, on, there, to, revise, !, stupid, school]   \n",
              "4                                                                                                                            [upper, airways, problem]   \n",
              "\n",
              "                                                                                                                                     stem_tokens  \\\n",
              "0                                                                                                             [ahhh, i, hope, your, ok, !, !, !]   \n",
              "1                                                                                                 [cool, i, have, no, tweet, app, for, my, razr]   \n",
              "2  [i, know, just, famili, drama, it, lamehey, next, time, u, hang, out, with, kim, n, u, guy, like, have, a, sleepov, or, whatev, ill, call, u]   \n",
              "3                                         [school, email, wo, nt, open, and, i, have, geographi, stuff, on, there, to, revis, !, stupid, school]   \n",
              "4                                                                                                                       [upper, airway, problem]   \n",
              "\n",
              "                                                                                                                                         lemma_tokens  \n",
              "0                                                                                                                  [ahhh, I, hope, your, ok, !, !, !]  \n",
              "1                                                                                                      [cool, I, have, no, tweet, app, for, my, razr]  \n",
              "2  [I, know, just, family, drama, its, lamehey, next, time, u, hang, out, with, kim, n, u, guy, like, have, a, sleepover, or, whatever, ill, call, u]  \n",
              "3                                          [school, email, will, not, open, and, I, have, geography, stuff, on, there, to, revise, !, stupid, school]  \n",
              "4                                                                                                                            [upper, airway, problem]  "
            ]
          },
          "execution_count": 24,
          "metadata": {},
          "output_type": "execute_result"
        }
      ],
      "source": [
        "from nltk.stem import PorterStemmer\n",
        "\n",
        "stemmer = PorterStemmer()\n",
        "nlp = spacy.load(\"en_core_web_sm\")\n",
        "\n",
        "df['stem_tokens'] = df['tokenized_no_stop'].apply(lambda x:[stemmer.stem(str(token)) for token in x])\n",
        "df['lemma_tokens'] = df['tokenized_no_stop'].apply(lambda x:[nlp(str(token))[0].lemma_ for token in x])\n",
        "\n",
        "df[['tokenized_no_stop','stem_tokens','lemma_tokens']].head()"
      ]
    },
    {
      "cell_type": "code",
      "execution_count": 27,
      "metadata": {},
      "outputs": [],
      "source": [
        "df['lemma_text'] = df['lemma_tokens'].apply(lambda x: \" \".join(x))\n",
        "df['stem_text'] =df['stem_tokens'].apply(lambda x: \" \".join(x))"
      ]
    },
    {
      "cell_type": "code",
      "execution_count": 28,
      "metadata": {},
      "outputs": [
        {
          "name": "stdout",
          "output_type": "stream",
          "text": [
            "Train: (14000, 16)\n",
            "Val: (3000, 16)\n",
            "Test: (3000, 16)\n"
          ]
        }
      ],
      "source": [
        "from sklearn.model_selection import train_test_split\n",
        "\n",
        "train_df, temp_df = train_test_split(df, test_size=0.3, stratify=df['target_encoded'], random_state=42)\n",
        "val_df, test_df = train_test_split(temp_df, test_size=0.5, stratify=temp_df['target_encoded'], random_state=42)\n",
        "\n",
        "print(\"Train:\", train_df.shape)\n",
        "print(\"Val:\", val_df.shape)\n",
        "print(\"Test:\", test_df.shape)"
      ]
    },
    {
      "cell_type": "markdown",
      "metadata": {},
      "source": [
        "- note: no data leakage as there is nothing dependent on the data itself from all the previous preprocessing"
      ]
    },
    {
      "cell_type": "code",
      "execution_count": null,
      "metadata": {},
      "outputs": [
        {
          "name": "stdout",
          "output_type": "stream",
          "text": [
            "(20000, 5000)\n"
          ]
        }
      ],
      "source": [
        "from sklearn.feature_extraction.text import TfidfVectorizer\n",
        "\n",
        "tfidf = TfidfVectorizer()\n",
        "X_train_tfidf_lemma = tfidf.fit_transform(train_df['lemma_text'])\n",
        "X_val_tfidf_lemma = tfidf.transform(val_df['lemma_text'])\n",
        "print(X_tfidf.shape)\n",
        "print(X.shape)\n"
      ]
    }
  ],
  "metadata": {
    "colab": {
      "provenance": []
    },
    "kernelspec": {
      "display_name": "venv310",
      "language": "python",
      "name": "python3"
    },
    "language_info": {
      "codemirror_mode": {
        "name": "ipython",
        "version": 3
      },
      "file_extension": ".py",
      "mimetype": "text/x-python",
      "name": "python",
      "nbconvert_exporter": "python",
      "pygments_lexer": "ipython3",
      "version": "3.10.11"
    }
  },
  "nbformat": 4,
  "nbformat_minor": 0
}
